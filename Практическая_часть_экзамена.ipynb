{
  "nbformat": 4,
  "nbformat_minor": 0,
  "metadata": {
    "colab": {
      "provenance": []
    },
    "kernelspec": {
      "name": "python3",
      "display_name": "Python 3"
    },
    "language_info": {
      "name": "python"
    }
  },
  "cells": [
    {
      "cell_type": "markdown",
      "source": [
        "**Практическая часть экзамена\n",
        "Выполнила Ковалева Варвара, вариант 15**"
      ],
      "metadata": {
        "id": "8sSawBuoIEDI"
      }
    },
    {
      "cell_type": "code",
      "source": [
        "import pandas as pd\n",
        "import matplotlib.pyplot as plt\n",
        "import numpy as np\n",
        "from scipy import stats"
      ],
      "metadata": {
        "id": "YhuGkc_fIFRL"
      },
      "execution_count": null,
      "outputs": []
    },
    {
      "cell_type": "markdown",
      "source": [
        "# Первичный анализ"
      ],
      "metadata": {
        "id": "l27KqFNOtdvV"
      }
    },
    {
      "cell_type": "markdown",
      "source": [
        "##Загрузка данных"
      ],
      "metadata": {
        "id": "lFfOdEBoxTOB"
      }
    },
    {
      "cell_type": "code",
      "source": [
        "data_full = pd.read_excel('/content/24_MAG_Exam_Practice_15.xls', header=None)\n",
        "data = data_full.iloc[:,:6]\n",
        "data.columns = [\"age\", \"children\", \"salary\", \"living_period\", \"car_price\", \"loan_value\"]"
      ],
      "metadata": {
        "id": "dO6bNnvqn1MF"
      },
      "execution_count": null,
      "outputs": []
    },
    {
      "cell_type": "code",
      "source": [
        "data.head()"
      ],
      "metadata": {
        "colab": {
          "base_uri": "https://localhost:8080/",
          "height": 206
        },
        "id": "SldnLem_qq9Y",
        "outputId": "689929b9-5ad7-4cba-e499-23491e3e7c22"
      },
      "execution_count": null,
      "outputs": [
        {
          "output_type": "execute_result",
          "data": {
            "text/plain": [
              "   age  children  salary  living_period  car_price  loan_value\n",
              "0   38         1    7500              9       7000       71000\n",
              "1   38         2   31900              8      32000      319000\n",
              "2   29         1   25000              3      23000      237000\n",
              "3   54         4   23100             18      26000      249000\n",
              "4   33         2   31800              5      31000      311000"
            ],
            "text/html": [
              "\n",
              "  <div id=\"df-745f5092-293c-420c-b57b-314b94a6ee93\" class=\"colab-df-container\">\n",
              "    <div>\n",
              "<style scoped>\n",
              "    .dataframe tbody tr th:only-of-type {\n",
              "        vertical-align: middle;\n",
              "    }\n",
              "\n",
              "    .dataframe tbody tr th {\n",
              "        vertical-align: top;\n",
              "    }\n",
              "\n",
              "    .dataframe thead th {\n",
              "        text-align: right;\n",
              "    }\n",
              "</style>\n",
              "<table border=\"1\" class=\"dataframe\">\n",
              "  <thead>\n",
              "    <tr style=\"text-align: right;\">\n",
              "      <th></th>\n",
              "      <th>age</th>\n",
              "      <th>children</th>\n",
              "      <th>salary</th>\n",
              "      <th>living_period</th>\n",
              "      <th>car_price</th>\n",
              "      <th>loan_value</th>\n",
              "    </tr>\n",
              "  </thead>\n",
              "  <tbody>\n",
              "    <tr>\n",
              "      <th>0</th>\n",
              "      <td>38</td>\n",
              "      <td>1</td>\n",
              "      <td>7500</td>\n",
              "      <td>9</td>\n",
              "      <td>7000</td>\n",
              "      <td>71000</td>\n",
              "    </tr>\n",
              "    <tr>\n",
              "      <th>1</th>\n",
              "      <td>38</td>\n",
              "      <td>2</td>\n",
              "      <td>31900</td>\n",
              "      <td>8</td>\n",
              "      <td>32000</td>\n",
              "      <td>319000</td>\n",
              "    </tr>\n",
              "    <tr>\n",
              "      <th>2</th>\n",
              "      <td>29</td>\n",
              "      <td>1</td>\n",
              "      <td>25000</td>\n",
              "      <td>3</td>\n",
              "      <td>23000</td>\n",
              "      <td>237000</td>\n",
              "    </tr>\n",
              "    <tr>\n",
              "      <th>3</th>\n",
              "      <td>54</td>\n",
              "      <td>4</td>\n",
              "      <td>23100</td>\n",
              "      <td>18</td>\n",
              "      <td>26000</td>\n",
              "      <td>249000</td>\n",
              "    </tr>\n",
              "    <tr>\n",
              "      <th>4</th>\n",
              "      <td>33</td>\n",
              "      <td>2</td>\n",
              "      <td>31800</td>\n",
              "      <td>5</td>\n",
              "      <td>31000</td>\n",
              "      <td>311000</td>\n",
              "    </tr>\n",
              "  </tbody>\n",
              "</table>\n",
              "</div>\n",
              "    <div class=\"colab-df-buttons\">\n",
              "\n",
              "  <div class=\"colab-df-container\">\n",
              "    <button class=\"colab-df-convert\" onclick=\"convertToInteractive('df-745f5092-293c-420c-b57b-314b94a6ee93')\"\n",
              "            title=\"Convert this dataframe to an interactive table.\"\n",
              "            style=\"display:none;\">\n",
              "\n",
              "  <svg xmlns=\"http://www.w3.org/2000/svg\" height=\"24px\" viewBox=\"0 -960 960 960\">\n",
              "    <path d=\"M120-120v-720h720v720H120Zm60-500h600v-160H180v160Zm220 220h160v-160H400v160Zm0 220h160v-160H400v160ZM180-400h160v-160H180v160Zm440 0h160v-160H620v160ZM180-180h160v-160H180v160Zm440 0h160v-160H620v160Z\"/>\n",
              "  </svg>\n",
              "    </button>\n",
              "\n",
              "  <style>\n",
              "    .colab-df-container {\n",
              "      display:flex;\n",
              "      gap: 12px;\n",
              "    }\n",
              "\n",
              "    .colab-df-convert {\n",
              "      background-color: #E8F0FE;\n",
              "      border: none;\n",
              "      border-radius: 50%;\n",
              "      cursor: pointer;\n",
              "      display: none;\n",
              "      fill: #1967D2;\n",
              "      height: 32px;\n",
              "      padding: 0 0 0 0;\n",
              "      width: 32px;\n",
              "    }\n",
              "\n",
              "    .colab-df-convert:hover {\n",
              "      background-color: #E2EBFA;\n",
              "      box-shadow: 0px 1px 2px rgba(60, 64, 67, 0.3), 0px 1px 3px 1px rgba(60, 64, 67, 0.15);\n",
              "      fill: #174EA6;\n",
              "    }\n",
              "\n",
              "    .colab-df-buttons div {\n",
              "      margin-bottom: 4px;\n",
              "    }\n",
              "\n",
              "    [theme=dark] .colab-df-convert {\n",
              "      background-color: #3B4455;\n",
              "      fill: #D2E3FC;\n",
              "    }\n",
              "\n",
              "    [theme=dark] .colab-df-convert:hover {\n",
              "      background-color: #434B5C;\n",
              "      box-shadow: 0px 1px 3px 1px rgba(0, 0, 0, 0.15);\n",
              "      filter: drop-shadow(0px 1px 2px rgba(0, 0, 0, 0.3));\n",
              "      fill: #FFFFFF;\n",
              "    }\n",
              "  </style>\n",
              "\n",
              "    <script>\n",
              "      const buttonEl =\n",
              "        document.querySelector('#df-745f5092-293c-420c-b57b-314b94a6ee93 button.colab-df-convert');\n",
              "      buttonEl.style.display =\n",
              "        google.colab.kernel.accessAllowed ? 'block' : 'none';\n",
              "\n",
              "      async function convertToInteractive(key) {\n",
              "        const element = document.querySelector('#df-745f5092-293c-420c-b57b-314b94a6ee93');\n",
              "        const dataTable =\n",
              "          await google.colab.kernel.invokeFunction('convertToInteractive',\n",
              "                                                    [key], {});\n",
              "        if (!dataTable) return;\n",
              "\n",
              "        const docLinkHtml = 'Like what you see? Visit the ' +\n",
              "          '<a target=\"_blank\" href=https://colab.research.google.com/notebooks/data_table.ipynb>data table notebook</a>'\n",
              "          + ' to learn more about interactive tables.';\n",
              "        element.innerHTML = '';\n",
              "        dataTable['output_type'] = 'display_data';\n",
              "        await google.colab.output.renderOutput(dataTable, element);\n",
              "        const docLink = document.createElement('div');\n",
              "        docLink.innerHTML = docLinkHtml;\n",
              "        element.appendChild(docLink);\n",
              "      }\n",
              "    </script>\n",
              "  </div>\n",
              "\n",
              "\n",
              "<div id=\"df-b67d5aea-392f-404b-804d-befd4d26441d\">\n",
              "  <button class=\"colab-df-quickchart\" onclick=\"quickchart('df-b67d5aea-392f-404b-804d-befd4d26441d')\"\n",
              "            title=\"Suggest charts\"\n",
              "            style=\"display:none;\">\n",
              "\n",
              "<svg xmlns=\"http://www.w3.org/2000/svg\" height=\"24px\"viewBox=\"0 0 24 24\"\n",
              "     width=\"24px\">\n",
              "    <g>\n",
              "        <path d=\"M19 3H5c-1.1 0-2 .9-2 2v14c0 1.1.9 2 2 2h14c1.1 0 2-.9 2-2V5c0-1.1-.9-2-2-2zM9 17H7v-7h2v7zm4 0h-2V7h2v10zm4 0h-2v-4h2v4z\"/>\n",
              "    </g>\n",
              "</svg>\n",
              "  </button>\n",
              "\n",
              "<style>\n",
              "  .colab-df-quickchart {\n",
              "      --bg-color: #E8F0FE;\n",
              "      --fill-color: #1967D2;\n",
              "      --hover-bg-color: #E2EBFA;\n",
              "      --hover-fill-color: #174EA6;\n",
              "      --disabled-fill-color: #AAA;\n",
              "      --disabled-bg-color: #DDD;\n",
              "  }\n",
              "\n",
              "  [theme=dark] .colab-df-quickchart {\n",
              "      --bg-color: #3B4455;\n",
              "      --fill-color: #D2E3FC;\n",
              "      --hover-bg-color: #434B5C;\n",
              "      --hover-fill-color: #FFFFFF;\n",
              "      --disabled-bg-color: #3B4455;\n",
              "      --disabled-fill-color: #666;\n",
              "  }\n",
              "\n",
              "  .colab-df-quickchart {\n",
              "    background-color: var(--bg-color);\n",
              "    border: none;\n",
              "    border-radius: 50%;\n",
              "    cursor: pointer;\n",
              "    display: none;\n",
              "    fill: var(--fill-color);\n",
              "    height: 32px;\n",
              "    padding: 0;\n",
              "    width: 32px;\n",
              "  }\n",
              "\n",
              "  .colab-df-quickchart:hover {\n",
              "    background-color: var(--hover-bg-color);\n",
              "    box-shadow: 0 1px 2px rgba(60, 64, 67, 0.3), 0 1px 3px 1px rgba(60, 64, 67, 0.15);\n",
              "    fill: var(--button-hover-fill-color);\n",
              "  }\n",
              "\n",
              "  .colab-df-quickchart-complete:disabled,\n",
              "  .colab-df-quickchart-complete:disabled:hover {\n",
              "    background-color: var(--disabled-bg-color);\n",
              "    fill: var(--disabled-fill-color);\n",
              "    box-shadow: none;\n",
              "  }\n",
              "\n",
              "  .colab-df-spinner {\n",
              "    border: 2px solid var(--fill-color);\n",
              "    border-color: transparent;\n",
              "    border-bottom-color: var(--fill-color);\n",
              "    animation:\n",
              "      spin 1s steps(1) infinite;\n",
              "  }\n",
              "\n",
              "  @keyframes spin {\n",
              "    0% {\n",
              "      border-color: transparent;\n",
              "      border-bottom-color: var(--fill-color);\n",
              "      border-left-color: var(--fill-color);\n",
              "    }\n",
              "    20% {\n",
              "      border-color: transparent;\n",
              "      border-left-color: var(--fill-color);\n",
              "      border-top-color: var(--fill-color);\n",
              "    }\n",
              "    30% {\n",
              "      border-color: transparent;\n",
              "      border-left-color: var(--fill-color);\n",
              "      border-top-color: var(--fill-color);\n",
              "      border-right-color: var(--fill-color);\n",
              "    }\n",
              "    40% {\n",
              "      border-color: transparent;\n",
              "      border-right-color: var(--fill-color);\n",
              "      border-top-color: var(--fill-color);\n",
              "    }\n",
              "    60% {\n",
              "      border-color: transparent;\n",
              "      border-right-color: var(--fill-color);\n",
              "    }\n",
              "    80% {\n",
              "      border-color: transparent;\n",
              "      border-right-color: var(--fill-color);\n",
              "      border-bottom-color: var(--fill-color);\n",
              "    }\n",
              "    90% {\n",
              "      border-color: transparent;\n",
              "      border-bottom-color: var(--fill-color);\n",
              "    }\n",
              "  }\n",
              "</style>\n",
              "\n",
              "  <script>\n",
              "    async function quickchart(key) {\n",
              "      const quickchartButtonEl =\n",
              "        document.querySelector('#' + key + ' button');\n",
              "      quickchartButtonEl.disabled = true;  // To prevent multiple clicks.\n",
              "      quickchartButtonEl.classList.add('colab-df-spinner');\n",
              "      try {\n",
              "        const charts = await google.colab.kernel.invokeFunction(\n",
              "            'suggestCharts', [key], {});\n",
              "      } catch (error) {\n",
              "        console.error('Error during call to suggestCharts:', error);\n",
              "      }\n",
              "      quickchartButtonEl.classList.remove('colab-df-spinner');\n",
              "      quickchartButtonEl.classList.add('colab-df-quickchart-complete');\n",
              "    }\n",
              "    (() => {\n",
              "      let quickchartButtonEl =\n",
              "        document.querySelector('#df-b67d5aea-392f-404b-804d-befd4d26441d button');\n",
              "      quickchartButtonEl.style.display =\n",
              "        google.colab.kernel.accessAllowed ? 'block' : 'none';\n",
              "    })();\n",
              "  </script>\n",
              "</div>\n",
              "    </div>\n",
              "  </div>\n"
            ],
            "application/vnd.google.colaboratory.intrinsic+json": {
              "type": "dataframe",
              "variable_name": "data",
              "summary": "{\n  \"name\": \"data\",\n  \"rows\": 70,\n  \"fields\": [\n    {\n      \"column\": \"age\",\n      \"properties\": {\n        \"dtype\": \"number\",\n        \"std\": 8,\n        \"min\": 20,\n        \"max\": 60,\n        \"num_unique_values\": 27,\n        \"samples\": [\n          51,\n          40,\n          36\n        ],\n        \"semantic_type\": \"\",\n        \"description\": \"\"\n      }\n    },\n    {\n      \"column\": \"children\",\n      \"properties\": {\n        \"dtype\": \"number\",\n        \"std\": 1,\n        \"min\": -1,\n        \"max\": 5,\n        \"num_unique_values\": 7,\n        \"samples\": [\n          1,\n          2,\n          -1\n        ],\n        \"semantic_type\": \"\",\n        \"description\": \"\"\n      }\n    },\n    {\n      \"column\": \"salary\",\n      \"properties\": {\n        \"dtype\": \"number\",\n        \"std\": 9999,\n        \"min\": 2600,\n        \"max\": 40300,\n        \"num_unique_values\": 66,\n        \"samples\": [\n          20800,\n          19400,\n          7500\n        ],\n        \"semantic_type\": \"\",\n        \"description\": \"\"\n      }\n    },\n    {\n      \"column\": \"living_period\",\n      \"properties\": {\n        \"dtype\": \"number\",\n        \"std\": 5,\n        \"min\": -2,\n        \"max\": 22,\n        \"num_unique_values\": 20,\n        \"samples\": [\n          9,\n          19,\n          14\n        ],\n        \"semantic_type\": \"\",\n        \"description\": \"\"\n      }\n    },\n    {\n      \"column\": \"car_price\",\n      \"properties\": {\n        \"dtype\": \"number\",\n        \"std\": 9927,\n        \"min\": 2000,\n        \"max\": 43000,\n        \"num_unique_values\": 31,\n        \"samples\": [\n          36000,\n          29000,\n          37000\n        ],\n        \"semantic_type\": \"\",\n        \"description\": \"\"\n      }\n    },\n    {\n      \"column\": \"loan_value\",\n      \"properties\": {\n        \"dtype\": \"number\",\n        \"std\": 100000,\n        \"min\": 19000,\n        \"max\": 422000,\n        \"num_unique_values\": 64,\n        \"samples\": [\n          52000,\n          159000,\n          71000\n        ],\n        \"semantic_type\": \"\",\n        \"description\": \"\"\n      }\n    }\n  ]\n}"
            }
          },
          "metadata": {},
          "execution_count": 16
        }
      ]
    },
    {
      "cell_type": "code",
      "source": [
        "data.shape"
      ],
      "metadata": {
        "colab": {
          "base_uri": "https://localhost:8080/"
        },
        "id": "n2GACnZkxY8X",
        "outputId": "bd6d79c9-4641-49c2-a72f-f6f615107020"
      },
      "execution_count": null,
      "outputs": [
        {
          "output_type": "execute_result",
          "data": {
            "text/plain": [
              "(70, 6)"
            ]
          },
          "metadata": {},
          "execution_count": 22
        }
      ]
    },
    {
      "cell_type": "markdown",
      "source": [
        "В данных всего 70 объектов."
      ],
      "metadata": {
        "id": "--ToG7pNxcIn"
      }
    },
    {
      "cell_type": "markdown",
      "source": [
        "##1-3. Анализ данных"
      ],
      "metadata": {
        "id": "OlILpXYVqaPf"
      }
    },
    {
      "cell_type": "markdown",
      "source": [
        "###Основные характеристики данных"
      ],
      "metadata": {
        "id": "KAc-QTKzxi-2"
      }
    },
    {
      "cell_type": "code",
      "source": [
        "data.describe()"
      ],
      "metadata": {
        "colab": {
          "base_uri": "https://localhost:8080/",
          "height": 300
        },
        "id": "2fBW2SkEn6Gi",
        "outputId": "ef1fd7d6-6996-403a-98f4-395dfd2e0916"
      },
      "execution_count": null,
      "outputs": [
        {
          "output_type": "execute_result",
          "data": {
            "text/plain": [
              "             age   children        salary  living_period     car_price  \\\n",
              "count  70.000000  70.000000     70.000000      70.000000     70.000000   \n",
              "mean   39.985714   2.071429  20000.000000       9.957143  20014.285714   \n",
              "std     8.074818   1.026058   9999.391286       5.017175   9927.991255   \n",
              "min    20.000000  -1.000000   2600.000000      -2.000000   2000.000000   \n",
              "25%    34.250000   1.250000  11325.000000       6.250000  12000.000000   \n",
              "50%    39.000000   2.000000  20250.000000       9.000000  20000.000000   \n",
              "75%    46.500000   3.000000  26875.000000      14.000000  26750.000000   \n",
              "max    60.000000   5.000000  40300.000000      22.000000  43000.000000   \n",
              "\n",
              "          loan_value  \n",
              "count      70.000000  \n",
              "mean   200014.285714  \n",
              "std    100000.361283  \n",
              "min     19000.000000  \n",
              "25%    119750.000000  \n",
              "50%    199500.000000  \n",
              "75%    265750.000000  \n",
              "max    422000.000000  "
            ],
            "text/html": [
              "\n",
              "  <div id=\"df-448e610e-ea04-4672-8fe8-85f60268b12e\" class=\"colab-df-container\">\n",
              "    <div>\n",
              "<style scoped>\n",
              "    .dataframe tbody tr th:only-of-type {\n",
              "        vertical-align: middle;\n",
              "    }\n",
              "\n",
              "    .dataframe tbody tr th {\n",
              "        vertical-align: top;\n",
              "    }\n",
              "\n",
              "    .dataframe thead th {\n",
              "        text-align: right;\n",
              "    }\n",
              "</style>\n",
              "<table border=\"1\" class=\"dataframe\">\n",
              "  <thead>\n",
              "    <tr style=\"text-align: right;\">\n",
              "      <th></th>\n",
              "      <th>age</th>\n",
              "      <th>children</th>\n",
              "      <th>salary</th>\n",
              "      <th>living_period</th>\n",
              "      <th>car_price</th>\n",
              "      <th>loan_value</th>\n",
              "    </tr>\n",
              "  </thead>\n",
              "  <tbody>\n",
              "    <tr>\n",
              "      <th>count</th>\n",
              "      <td>70.000000</td>\n",
              "      <td>70.000000</td>\n",
              "      <td>70.000000</td>\n",
              "      <td>70.000000</td>\n",
              "      <td>70.000000</td>\n",
              "      <td>70.000000</td>\n",
              "    </tr>\n",
              "    <tr>\n",
              "      <th>mean</th>\n",
              "      <td>39.985714</td>\n",
              "      <td>2.071429</td>\n",
              "      <td>20000.000000</td>\n",
              "      <td>9.957143</td>\n",
              "      <td>20014.285714</td>\n",
              "      <td>200014.285714</td>\n",
              "    </tr>\n",
              "    <tr>\n",
              "      <th>std</th>\n",
              "      <td>8.074818</td>\n",
              "      <td>1.026058</td>\n",
              "      <td>9999.391286</td>\n",
              "      <td>5.017175</td>\n",
              "      <td>9927.991255</td>\n",
              "      <td>100000.361283</td>\n",
              "    </tr>\n",
              "    <tr>\n",
              "      <th>min</th>\n",
              "      <td>20.000000</td>\n",
              "      <td>-1.000000</td>\n",
              "      <td>2600.000000</td>\n",
              "      <td>-2.000000</td>\n",
              "      <td>2000.000000</td>\n",
              "      <td>19000.000000</td>\n",
              "    </tr>\n",
              "    <tr>\n",
              "      <th>25%</th>\n",
              "      <td>34.250000</td>\n",
              "      <td>1.250000</td>\n",
              "      <td>11325.000000</td>\n",
              "      <td>6.250000</td>\n",
              "      <td>12000.000000</td>\n",
              "      <td>119750.000000</td>\n",
              "    </tr>\n",
              "    <tr>\n",
              "      <th>50%</th>\n",
              "      <td>39.000000</td>\n",
              "      <td>2.000000</td>\n",
              "      <td>20250.000000</td>\n",
              "      <td>9.000000</td>\n",
              "      <td>20000.000000</td>\n",
              "      <td>199500.000000</td>\n",
              "    </tr>\n",
              "    <tr>\n",
              "      <th>75%</th>\n",
              "      <td>46.500000</td>\n",
              "      <td>3.000000</td>\n",
              "      <td>26875.000000</td>\n",
              "      <td>14.000000</td>\n",
              "      <td>26750.000000</td>\n",
              "      <td>265750.000000</td>\n",
              "    </tr>\n",
              "    <tr>\n",
              "      <th>max</th>\n",
              "      <td>60.000000</td>\n",
              "      <td>5.000000</td>\n",
              "      <td>40300.000000</td>\n",
              "      <td>22.000000</td>\n",
              "      <td>43000.000000</td>\n",
              "      <td>422000.000000</td>\n",
              "    </tr>\n",
              "  </tbody>\n",
              "</table>\n",
              "</div>\n",
              "    <div class=\"colab-df-buttons\">\n",
              "\n",
              "  <div class=\"colab-df-container\">\n",
              "    <button class=\"colab-df-convert\" onclick=\"convertToInteractive('df-448e610e-ea04-4672-8fe8-85f60268b12e')\"\n",
              "            title=\"Convert this dataframe to an interactive table.\"\n",
              "            style=\"display:none;\">\n",
              "\n",
              "  <svg xmlns=\"http://www.w3.org/2000/svg\" height=\"24px\" viewBox=\"0 -960 960 960\">\n",
              "    <path d=\"M120-120v-720h720v720H120Zm60-500h600v-160H180v160Zm220 220h160v-160H400v160Zm0 220h160v-160H400v160ZM180-400h160v-160H180v160Zm440 0h160v-160H620v160ZM180-180h160v-160H180v160Zm440 0h160v-160H620v160Z\"/>\n",
              "  </svg>\n",
              "    </button>\n",
              "\n",
              "  <style>\n",
              "    .colab-df-container {\n",
              "      display:flex;\n",
              "      gap: 12px;\n",
              "    }\n",
              "\n",
              "    .colab-df-convert {\n",
              "      background-color: #E8F0FE;\n",
              "      border: none;\n",
              "      border-radius: 50%;\n",
              "      cursor: pointer;\n",
              "      display: none;\n",
              "      fill: #1967D2;\n",
              "      height: 32px;\n",
              "      padding: 0 0 0 0;\n",
              "      width: 32px;\n",
              "    }\n",
              "\n",
              "    .colab-df-convert:hover {\n",
              "      background-color: #E2EBFA;\n",
              "      box-shadow: 0px 1px 2px rgba(60, 64, 67, 0.3), 0px 1px 3px 1px rgba(60, 64, 67, 0.15);\n",
              "      fill: #174EA6;\n",
              "    }\n",
              "\n",
              "    .colab-df-buttons div {\n",
              "      margin-bottom: 4px;\n",
              "    }\n",
              "\n",
              "    [theme=dark] .colab-df-convert {\n",
              "      background-color: #3B4455;\n",
              "      fill: #D2E3FC;\n",
              "    }\n",
              "\n",
              "    [theme=dark] .colab-df-convert:hover {\n",
              "      background-color: #434B5C;\n",
              "      box-shadow: 0px 1px 3px 1px rgba(0, 0, 0, 0.15);\n",
              "      filter: drop-shadow(0px 1px 2px rgba(0, 0, 0, 0.3));\n",
              "      fill: #FFFFFF;\n",
              "    }\n",
              "  </style>\n",
              "\n",
              "    <script>\n",
              "      const buttonEl =\n",
              "        document.querySelector('#df-448e610e-ea04-4672-8fe8-85f60268b12e button.colab-df-convert');\n",
              "      buttonEl.style.display =\n",
              "        google.colab.kernel.accessAllowed ? 'block' : 'none';\n",
              "\n",
              "      async function convertToInteractive(key) {\n",
              "        const element = document.querySelector('#df-448e610e-ea04-4672-8fe8-85f60268b12e');\n",
              "        const dataTable =\n",
              "          await google.colab.kernel.invokeFunction('convertToInteractive',\n",
              "                                                    [key], {});\n",
              "        if (!dataTable) return;\n",
              "\n",
              "        const docLinkHtml = 'Like what you see? Visit the ' +\n",
              "          '<a target=\"_blank\" href=https://colab.research.google.com/notebooks/data_table.ipynb>data table notebook</a>'\n",
              "          + ' to learn more about interactive tables.';\n",
              "        element.innerHTML = '';\n",
              "        dataTable['output_type'] = 'display_data';\n",
              "        await google.colab.output.renderOutput(dataTable, element);\n",
              "        const docLink = document.createElement('div');\n",
              "        docLink.innerHTML = docLinkHtml;\n",
              "        element.appendChild(docLink);\n",
              "      }\n",
              "    </script>\n",
              "  </div>\n",
              "\n",
              "\n",
              "<div id=\"df-b706c40b-9e25-48eb-b112-3cf74c267639\">\n",
              "  <button class=\"colab-df-quickchart\" onclick=\"quickchart('df-b706c40b-9e25-48eb-b112-3cf74c267639')\"\n",
              "            title=\"Suggest charts\"\n",
              "            style=\"display:none;\">\n",
              "\n",
              "<svg xmlns=\"http://www.w3.org/2000/svg\" height=\"24px\"viewBox=\"0 0 24 24\"\n",
              "     width=\"24px\">\n",
              "    <g>\n",
              "        <path d=\"M19 3H5c-1.1 0-2 .9-2 2v14c0 1.1.9 2 2 2h14c1.1 0 2-.9 2-2V5c0-1.1-.9-2-2-2zM9 17H7v-7h2v7zm4 0h-2V7h2v10zm4 0h-2v-4h2v4z\"/>\n",
              "    </g>\n",
              "</svg>\n",
              "  </button>\n",
              "\n",
              "<style>\n",
              "  .colab-df-quickchart {\n",
              "      --bg-color: #E8F0FE;\n",
              "      --fill-color: #1967D2;\n",
              "      --hover-bg-color: #E2EBFA;\n",
              "      --hover-fill-color: #174EA6;\n",
              "      --disabled-fill-color: #AAA;\n",
              "      --disabled-bg-color: #DDD;\n",
              "  }\n",
              "\n",
              "  [theme=dark] .colab-df-quickchart {\n",
              "      --bg-color: #3B4455;\n",
              "      --fill-color: #D2E3FC;\n",
              "      --hover-bg-color: #434B5C;\n",
              "      --hover-fill-color: #FFFFFF;\n",
              "      --disabled-bg-color: #3B4455;\n",
              "      --disabled-fill-color: #666;\n",
              "  }\n",
              "\n",
              "  .colab-df-quickchart {\n",
              "    background-color: var(--bg-color);\n",
              "    border: none;\n",
              "    border-radius: 50%;\n",
              "    cursor: pointer;\n",
              "    display: none;\n",
              "    fill: var(--fill-color);\n",
              "    height: 32px;\n",
              "    padding: 0;\n",
              "    width: 32px;\n",
              "  }\n",
              "\n",
              "  .colab-df-quickchart:hover {\n",
              "    background-color: var(--hover-bg-color);\n",
              "    box-shadow: 0 1px 2px rgba(60, 64, 67, 0.3), 0 1px 3px 1px rgba(60, 64, 67, 0.15);\n",
              "    fill: var(--button-hover-fill-color);\n",
              "  }\n",
              "\n",
              "  .colab-df-quickchart-complete:disabled,\n",
              "  .colab-df-quickchart-complete:disabled:hover {\n",
              "    background-color: var(--disabled-bg-color);\n",
              "    fill: var(--disabled-fill-color);\n",
              "    box-shadow: none;\n",
              "  }\n",
              "\n",
              "  .colab-df-spinner {\n",
              "    border: 2px solid var(--fill-color);\n",
              "    border-color: transparent;\n",
              "    border-bottom-color: var(--fill-color);\n",
              "    animation:\n",
              "      spin 1s steps(1) infinite;\n",
              "  }\n",
              "\n",
              "  @keyframes spin {\n",
              "    0% {\n",
              "      border-color: transparent;\n",
              "      border-bottom-color: var(--fill-color);\n",
              "      border-left-color: var(--fill-color);\n",
              "    }\n",
              "    20% {\n",
              "      border-color: transparent;\n",
              "      border-left-color: var(--fill-color);\n",
              "      border-top-color: var(--fill-color);\n",
              "    }\n",
              "    30% {\n",
              "      border-color: transparent;\n",
              "      border-left-color: var(--fill-color);\n",
              "      border-top-color: var(--fill-color);\n",
              "      border-right-color: var(--fill-color);\n",
              "    }\n",
              "    40% {\n",
              "      border-color: transparent;\n",
              "      border-right-color: var(--fill-color);\n",
              "      border-top-color: var(--fill-color);\n",
              "    }\n",
              "    60% {\n",
              "      border-color: transparent;\n",
              "      border-right-color: var(--fill-color);\n",
              "    }\n",
              "    80% {\n",
              "      border-color: transparent;\n",
              "      border-right-color: var(--fill-color);\n",
              "      border-bottom-color: var(--fill-color);\n",
              "    }\n",
              "    90% {\n",
              "      border-color: transparent;\n",
              "      border-bottom-color: var(--fill-color);\n",
              "    }\n",
              "  }\n",
              "</style>\n",
              "\n",
              "  <script>\n",
              "    async function quickchart(key) {\n",
              "      const quickchartButtonEl =\n",
              "        document.querySelector('#' + key + ' button');\n",
              "      quickchartButtonEl.disabled = true;  // To prevent multiple clicks.\n",
              "      quickchartButtonEl.classList.add('colab-df-spinner');\n",
              "      try {\n",
              "        const charts = await google.colab.kernel.invokeFunction(\n",
              "            'suggestCharts', [key], {});\n",
              "      } catch (error) {\n",
              "        console.error('Error during call to suggestCharts:', error);\n",
              "      }\n",
              "      quickchartButtonEl.classList.remove('colab-df-spinner');\n",
              "      quickchartButtonEl.classList.add('colab-df-quickchart-complete');\n",
              "    }\n",
              "    (() => {\n",
              "      let quickchartButtonEl =\n",
              "        document.querySelector('#df-b706c40b-9e25-48eb-b112-3cf74c267639 button');\n",
              "      quickchartButtonEl.style.display =\n",
              "        google.colab.kernel.accessAllowed ? 'block' : 'none';\n",
              "    })();\n",
              "  </script>\n",
              "</div>\n",
              "    </div>\n",
              "  </div>\n"
            ],
            "application/vnd.google.colaboratory.intrinsic+json": {
              "type": "dataframe",
              "summary": "{\n  \"name\": \"data\",\n  \"rows\": 8,\n  \"fields\": [\n    {\n      \"column\": \"age\",\n      \"properties\": {\n        \"dtype\": \"number\",\n        \"std\": 19.981887176913343,\n        \"min\": 8.07481835779525,\n        \"max\": 70.0,\n        \"num_unique_values\": 8,\n        \"samples\": [\n          39.98571428571429,\n          39.0,\n          70.0\n        ],\n        \"semantic_type\": \"\",\n        \"description\": \"\"\n      }\n    },\n    {\n      \"column\": \"children\",\n      \"properties\": {\n        \"dtype\": \"number\",\n        \"std\": 24.13520153373213,\n        \"min\": -1.0,\n        \"max\": 70.0,\n        \"num_unique_values\": 8,\n        \"samples\": [\n          2.0714285714285716,\n          2.0,\n          70.0\n        ],\n        \"semantic_type\": \"\",\n        \"description\": \"\"\n      }\n    },\n    {\n      \"column\": \"salary\",\n      \"properties\": {\n        \"dtype\": \"number\",\n        \"std\": 13269.430095120271,\n        \"min\": 70.0,\n        \"max\": 40300.0,\n        \"num_unique_values\": 8,\n        \"samples\": [\n          20000.0,\n          20250.0,\n          70.0\n        ],\n        \"semantic_type\": \"\",\n        \"description\": \"\"\n      }\n    },\n    {\n      \"column\": \"living_period\",\n      \"properties\": {\n        \"dtype\": \"number\",\n        \"std\": 22.603281335092,\n        \"min\": -2.0,\n        \"max\": 70.0,\n        \"num_unique_values\": 8,\n        \"samples\": [\n          9.957142857142857,\n          9.0,\n          70.0\n        ],\n        \"semantic_type\": \"\",\n        \"description\": \"\"\n      }\n    },\n    {\n      \"column\": \"car_price\",\n      \"properties\": {\n        \"dtype\": \"number\",\n        \"std\": 14016.116746275062,\n        \"min\": 70.0,\n        \"max\": 43000.0,\n        \"num_unique_values\": 8,\n        \"samples\": [\n          20014.285714285714,\n          20000.0,\n          70.0\n        ],\n        \"semantic_type\": \"\",\n        \"description\": \"\"\n      }\n    },\n    {\n      \"column\": \"loan_value\",\n      \"properties\": {\n        \"dtype\": \"number\",\n        \"std\": 138048.44143130552,\n        \"min\": 70.0,\n        \"max\": 422000.0,\n        \"num_unique_values\": 8,\n        \"samples\": [\n          200014.2857142857,\n          199500.0,\n          70.0\n        ],\n        \"semantic_type\": \"\",\n        \"description\": \"\"\n      }\n    }\n  ]\n}"
            }
          },
          "metadata": {},
          "execution_count": 20
        }
      ]
    },
    {
      "cell_type": "markdown",
      "source": [
        "По полученным значениям характеристик можно увидеть, что присутсвуют некорректные данные в виде объектов с отрицательным значением количества иждевенцев и отрицательным значением срока проживания в регионе.\n",
        "\n",
        "В данных нет пропусков (так как в строке count для всех объектов одинаковое значение 70, соответсвующее общему количеству объектов).\n"
      ],
      "metadata": {
        "id": "gooWopvXv3S_"
      }
    },
    {
      "cell_type": "markdown",
      "source": [
        "###Нормировка"
      ],
      "metadata": {
        "id": "VNhs9CMt2BxX"
      }
    },
    {
      "cell_type": "markdown",
      "source": [
        "Так как средние значения признаков сильно отличаются (по смыслу признаки имеют разные системы измерения), то при дальнейших расчетах некоторые признаки могут оказывать большее влияние. Для более правильного исследования стоит нормировать данные."
      ],
      "metadata": {
        "id": "y9aeZjXe2EG3"
      }
    },
    {
      "cell_type": "code",
      "source": [
        "data_norm = data / np.sqrt(np.square(data).sum(axis=0))\n",
        "data_norm.head()"
      ],
      "metadata": {
        "colab": {
          "base_uri": "https://localhost:8080/",
          "height": 206
        },
        "id": "9etzOhyW2GL5",
        "outputId": "d3d6baca-c88e-4c07-de30-5f84d99cce2a"
      },
      "execution_count": null,
      "outputs": [
        {
          "output_type": "execute_result",
          "data": {
            "text/plain": [
              "        age  children    salary  living_period  car_price  loan_value\n",
              "0  0.111371  0.051778  0.040147       0.096618   0.037502    0.038003\n",
              "1  0.111371  0.103556  0.170759       0.085883   0.171437    0.170747\n",
              "2  0.084994  0.051778  0.133824       0.032206   0.123220    0.126856\n",
              "3  0.158264  0.207112  0.123653       0.193236   0.139293    0.133279\n",
              "4  0.096717  0.103556  0.170224       0.053677   0.166080    0.166465"
            ],
            "text/html": [
              "\n",
              "  <div id=\"df-54aeb746-df2f-403b-9da3-fd4999e07b34\" class=\"colab-df-container\">\n",
              "    <div>\n",
              "<style scoped>\n",
              "    .dataframe tbody tr th:only-of-type {\n",
              "        vertical-align: middle;\n",
              "    }\n",
              "\n",
              "    .dataframe tbody tr th {\n",
              "        vertical-align: top;\n",
              "    }\n",
              "\n",
              "    .dataframe thead th {\n",
              "        text-align: right;\n",
              "    }\n",
              "</style>\n",
              "<table border=\"1\" class=\"dataframe\">\n",
              "  <thead>\n",
              "    <tr style=\"text-align: right;\">\n",
              "      <th></th>\n",
              "      <th>age</th>\n",
              "      <th>children</th>\n",
              "      <th>salary</th>\n",
              "      <th>living_period</th>\n",
              "      <th>car_price</th>\n",
              "      <th>loan_value</th>\n",
              "    </tr>\n",
              "  </thead>\n",
              "  <tbody>\n",
              "    <tr>\n",
              "      <th>0</th>\n",
              "      <td>0.111371</td>\n",
              "      <td>0.051778</td>\n",
              "      <td>0.040147</td>\n",
              "      <td>0.096618</td>\n",
              "      <td>0.037502</td>\n",
              "      <td>0.038003</td>\n",
              "    </tr>\n",
              "    <tr>\n",
              "      <th>1</th>\n",
              "      <td>0.111371</td>\n",
              "      <td>0.103556</td>\n",
              "      <td>0.170759</td>\n",
              "      <td>0.085883</td>\n",
              "      <td>0.171437</td>\n",
              "      <td>0.170747</td>\n",
              "    </tr>\n",
              "    <tr>\n",
              "      <th>2</th>\n",
              "      <td>0.084994</td>\n",
              "      <td>0.051778</td>\n",
              "      <td>0.133824</td>\n",
              "      <td>0.032206</td>\n",
              "      <td>0.123220</td>\n",
              "      <td>0.126856</td>\n",
              "    </tr>\n",
              "    <tr>\n",
              "      <th>3</th>\n",
              "      <td>0.158264</td>\n",
              "      <td>0.207112</td>\n",
              "      <td>0.123653</td>\n",
              "      <td>0.193236</td>\n",
              "      <td>0.139293</td>\n",
              "      <td>0.133279</td>\n",
              "    </tr>\n",
              "    <tr>\n",
              "      <th>4</th>\n",
              "      <td>0.096717</td>\n",
              "      <td>0.103556</td>\n",
              "      <td>0.170224</td>\n",
              "      <td>0.053677</td>\n",
              "      <td>0.166080</td>\n",
              "      <td>0.166465</td>\n",
              "    </tr>\n",
              "  </tbody>\n",
              "</table>\n",
              "</div>\n",
              "    <div class=\"colab-df-buttons\">\n",
              "\n",
              "  <div class=\"colab-df-container\">\n",
              "    <button class=\"colab-df-convert\" onclick=\"convertToInteractive('df-54aeb746-df2f-403b-9da3-fd4999e07b34')\"\n",
              "            title=\"Convert this dataframe to an interactive table.\"\n",
              "            style=\"display:none;\">\n",
              "\n",
              "  <svg xmlns=\"http://www.w3.org/2000/svg\" height=\"24px\" viewBox=\"0 -960 960 960\">\n",
              "    <path d=\"M120-120v-720h720v720H120Zm60-500h600v-160H180v160Zm220 220h160v-160H400v160Zm0 220h160v-160H400v160ZM180-400h160v-160H180v160Zm440 0h160v-160H620v160ZM180-180h160v-160H180v160Zm440 0h160v-160H620v160Z\"/>\n",
              "  </svg>\n",
              "    </button>\n",
              "\n",
              "  <style>\n",
              "    .colab-df-container {\n",
              "      display:flex;\n",
              "      gap: 12px;\n",
              "    }\n",
              "\n",
              "    .colab-df-convert {\n",
              "      background-color: #E8F0FE;\n",
              "      border: none;\n",
              "      border-radius: 50%;\n",
              "      cursor: pointer;\n",
              "      display: none;\n",
              "      fill: #1967D2;\n",
              "      height: 32px;\n",
              "      padding: 0 0 0 0;\n",
              "      width: 32px;\n",
              "    }\n",
              "\n",
              "    .colab-df-convert:hover {\n",
              "      background-color: #E2EBFA;\n",
              "      box-shadow: 0px 1px 2px rgba(60, 64, 67, 0.3), 0px 1px 3px 1px rgba(60, 64, 67, 0.15);\n",
              "      fill: #174EA6;\n",
              "    }\n",
              "\n",
              "    .colab-df-buttons div {\n",
              "      margin-bottom: 4px;\n",
              "    }\n",
              "\n",
              "    [theme=dark] .colab-df-convert {\n",
              "      background-color: #3B4455;\n",
              "      fill: #D2E3FC;\n",
              "    }\n",
              "\n",
              "    [theme=dark] .colab-df-convert:hover {\n",
              "      background-color: #434B5C;\n",
              "      box-shadow: 0px 1px 3px 1px rgba(0, 0, 0, 0.15);\n",
              "      filter: drop-shadow(0px 1px 2px rgba(0, 0, 0, 0.3));\n",
              "      fill: #FFFFFF;\n",
              "    }\n",
              "  </style>\n",
              "\n",
              "    <script>\n",
              "      const buttonEl =\n",
              "        document.querySelector('#df-54aeb746-df2f-403b-9da3-fd4999e07b34 button.colab-df-convert');\n",
              "      buttonEl.style.display =\n",
              "        google.colab.kernel.accessAllowed ? 'block' : 'none';\n",
              "\n",
              "      async function convertToInteractive(key) {\n",
              "        const element = document.querySelector('#df-54aeb746-df2f-403b-9da3-fd4999e07b34');\n",
              "        const dataTable =\n",
              "          await google.colab.kernel.invokeFunction('convertToInteractive',\n",
              "                                                    [key], {});\n",
              "        if (!dataTable) return;\n",
              "\n",
              "        const docLinkHtml = 'Like what you see? Visit the ' +\n",
              "          '<a target=\"_blank\" href=https://colab.research.google.com/notebooks/data_table.ipynb>data table notebook</a>'\n",
              "          + ' to learn more about interactive tables.';\n",
              "        element.innerHTML = '';\n",
              "        dataTable['output_type'] = 'display_data';\n",
              "        await google.colab.output.renderOutput(dataTable, element);\n",
              "        const docLink = document.createElement('div');\n",
              "        docLink.innerHTML = docLinkHtml;\n",
              "        element.appendChild(docLink);\n",
              "      }\n",
              "    </script>\n",
              "  </div>\n",
              "\n",
              "\n",
              "<div id=\"df-5ab19770-9c84-4141-8159-421e38d56e27\">\n",
              "  <button class=\"colab-df-quickchart\" onclick=\"quickchart('df-5ab19770-9c84-4141-8159-421e38d56e27')\"\n",
              "            title=\"Suggest charts\"\n",
              "            style=\"display:none;\">\n",
              "\n",
              "<svg xmlns=\"http://www.w3.org/2000/svg\" height=\"24px\"viewBox=\"0 0 24 24\"\n",
              "     width=\"24px\">\n",
              "    <g>\n",
              "        <path d=\"M19 3H5c-1.1 0-2 .9-2 2v14c0 1.1.9 2 2 2h14c1.1 0 2-.9 2-2V5c0-1.1-.9-2-2-2zM9 17H7v-7h2v7zm4 0h-2V7h2v10zm4 0h-2v-4h2v4z\"/>\n",
              "    </g>\n",
              "</svg>\n",
              "  </button>\n",
              "\n",
              "<style>\n",
              "  .colab-df-quickchart {\n",
              "      --bg-color: #E8F0FE;\n",
              "      --fill-color: #1967D2;\n",
              "      --hover-bg-color: #E2EBFA;\n",
              "      --hover-fill-color: #174EA6;\n",
              "      --disabled-fill-color: #AAA;\n",
              "      --disabled-bg-color: #DDD;\n",
              "  }\n",
              "\n",
              "  [theme=dark] .colab-df-quickchart {\n",
              "      --bg-color: #3B4455;\n",
              "      --fill-color: #D2E3FC;\n",
              "      --hover-bg-color: #434B5C;\n",
              "      --hover-fill-color: #FFFFFF;\n",
              "      --disabled-bg-color: #3B4455;\n",
              "      --disabled-fill-color: #666;\n",
              "  }\n",
              "\n",
              "  .colab-df-quickchart {\n",
              "    background-color: var(--bg-color);\n",
              "    border: none;\n",
              "    border-radius: 50%;\n",
              "    cursor: pointer;\n",
              "    display: none;\n",
              "    fill: var(--fill-color);\n",
              "    height: 32px;\n",
              "    padding: 0;\n",
              "    width: 32px;\n",
              "  }\n",
              "\n",
              "  .colab-df-quickchart:hover {\n",
              "    background-color: var(--hover-bg-color);\n",
              "    box-shadow: 0 1px 2px rgba(60, 64, 67, 0.3), 0 1px 3px 1px rgba(60, 64, 67, 0.15);\n",
              "    fill: var(--button-hover-fill-color);\n",
              "  }\n",
              "\n",
              "  .colab-df-quickchart-complete:disabled,\n",
              "  .colab-df-quickchart-complete:disabled:hover {\n",
              "    background-color: var(--disabled-bg-color);\n",
              "    fill: var(--disabled-fill-color);\n",
              "    box-shadow: none;\n",
              "  }\n",
              "\n",
              "  .colab-df-spinner {\n",
              "    border: 2px solid var(--fill-color);\n",
              "    border-color: transparent;\n",
              "    border-bottom-color: var(--fill-color);\n",
              "    animation:\n",
              "      spin 1s steps(1) infinite;\n",
              "  }\n",
              "\n",
              "  @keyframes spin {\n",
              "    0% {\n",
              "      border-color: transparent;\n",
              "      border-bottom-color: var(--fill-color);\n",
              "      border-left-color: var(--fill-color);\n",
              "    }\n",
              "    20% {\n",
              "      border-color: transparent;\n",
              "      border-left-color: var(--fill-color);\n",
              "      border-top-color: var(--fill-color);\n",
              "    }\n",
              "    30% {\n",
              "      border-color: transparent;\n",
              "      border-left-color: var(--fill-color);\n",
              "      border-top-color: var(--fill-color);\n",
              "      border-right-color: var(--fill-color);\n",
              "    }\n",
              "    40% {\n",
              "      border-color: transparent;\n",
              "      border-right-color: var(--fill-color);\n",
              "      border-top-color: var(--fill-color);\n",
              "    }\n",
              "    60% {\n",
              "      border-color: transparent;\n",
              "      border-right-color: var(--fill-color);\n",
              "    }\n",
              "    80% {\n",
              "      border-color: transparent;\n",
              "      border-right-color: var(--fill-color);\n",
              "      border-bottom-color: var(--fill-color);\n",
              "    }\n",
              "    90% {\n",
              "      border-color: transparent;\n",
              "      border-bottom-color: var(--fill-color);\n",
              "    }\n",
              "  }\n",
              "</style>\n",
              "\n",
              "  <script>\n",
              "    async function quickchart(key) {\n",
              "      const quickchartButtonEl =\n",
              "        document.querySelector('#' + key + ' button');\n",
              "      quickchartButtonEl.disabled = true;  // To prevent multiple clicks.\n",
              "      quickchartButtonEl.classList.add('colab-df-spinner');\n",
              "      try {\n",
              "        const charts = await google.colab.kernel.invokeFunction(\n",
              "            'suggestCharts', [key], {});\n",
              "      } catch (error) {\n",
              "        console.error('Error during call to suggestCharts:', error);\n",
              "      }\n",
              "      quickchartButtonEl.classList.remove('colab-df-spinner');\n",
              "      quickchartButtonEl.classList.add('colab-df-quickchart-complete');\n",
              "    }\n",
              "    (() => {\n",
              "      let quickchartButtonEl =\n",
              "        document.querySelector('#df-5ab19770-9c84-4141-8159-421e38d56e27 button');\n",
              "      quickchartButtonEl.style.display =\n",
              "        google.colab.kernel.accessAllowed ? 'block' : 'none';\n",
              "    })();\n",
              "  </script>\n",
              "</div>\n",
              "    </div>\n",
              "  </div>\n"
            ],
            "application/vnd.google.colaboratory.intrinsic+json": {
              "type": "dataframe",
              "variable_name": "data_norm",
              "summary": "{\n  \"name\": \"data_norm\",\n  \"rows\": 70,\n  \"fields\": [\n    {\n      \"column\": \"age\",\n      \"properties\": {\n        \"dtype\": \"number\",\n        \"std\": 0.023665780354153985,\n        \"min\": 0.05861625439860843,\n        \"max\": 0.1758487631958253,\n        \"num_unique_values\": 27,\n        \"samples\": [\n          0.1494714487164515,\n          0.11723250879721686,\n          0.10550925791749517\n        ],\n        \"semantic_type\": \"\",\n        \"description\": \"\"\n      }\n    },\n    {\n      \"column\": \"children\",\n      \"properties\": {\n        \"dtype\": \"number\",\n        \"std\": 0.05312726969902232,\n        \"min\": -0.05177803730784977,\n        \"max\": 0.25889018653924883,\n        \"num_unique_values\": 7,\n        \"samples\": [\n          0.05177803730784977,\n          0.10355607461569954,\n          -0.05177803730784977\n        ],\n        \"semantic_type\": \"\",\n        \"description\": \"\"\n      }\n    },\n    {\n      \"column\": \"salary\",\n      \"properties\": {\n        \"dtype\": \"number\",\n        \"std\": 0.05352615854314324,\n        \"min\": 0.013917648408209438,\n        \"max\": 0.21572355032724627,\n        \"num_unique_values\": 66,\n        \"samples\": [\n          0.1113411872656755,\n          0.10384706889202426,\n          0.04014706271598876\n        ],\n        \"semantic_type\": \"\",\n        \"description\": \"\"\n      }\n    },\n    {\n      \"column\": \"living_period\",\n      \"properties\": {\n        \"dtype\": \"number\",\n        \"std\": 0.05386100980537707,\n        \"min\": -0.02147065022352817,\n        \"max\": 0.23617715245880985,\n        \"num_unique_values\": 20,\n        \"samples\": [\n          0.09661792600587676,\n          0.20397117712351762,\n          0.15029455156469718\n        ],\n        \"semantic_type\": \"\",\n        \"description\": \"\"\n      }\n    },\n    {\n      \"column\": \"car_price\",\n      \"properties\": {\n        \"dtype\": \"number\",\n        \"std\": 0.05318829638629984,\n        \"min\": 0.01071481531805472,\n        \"max\": 0.2303685293381765,\n        \"num_unique_values\": 31,\n        \"samples\": [\n          0.19286667572498498,\n          0.15536482211179345,\n          0.19822408338401235\n        ],\n        \"semantic_type\": \"\",\n        \"description\": \"\"\n      }\n    },\n    {\n      \"column\": \"loan_value\",\n      \"properties\": {\n        \"dtype\": \"number\",\n        \"std\": 0.05352586051080332,\n        \"min\": 0.010169876755017683,\n        \"max\": 0.2258783152956559,\n        \"num_unique_values\": 64,\n        \"samples\": [\n          0.02783334690846945,\n          0.08510581073935851,\n          0.038003223663487136\n        ],\n        \"semantic_type\": \"\",\n        \"description\": \"\"\n      }\n    }\n  ]\n}"
            }
          },
          "metadata": {},
          "execution_count": 25
        }
      ]
    },
    {
      "cell_type": "markdown",
      "source": [
        "Проверяем результат центрирования с помощью вычисления евклидовой нормы каждого признака (она должна быть равна 1):"
      ],
      "metadata": {
        "id": "SsR6jW_d2eF-"
      }
    },
    {
      "cell_type": "code",
      "source": [
        "np.square(data_norm).sum(axis=0)"
      ],
      "metadata": {
        "colab": {
          "base_uri": "https://localhost:8080/",
          "height": 272
        },
        "id": "ZRHetQjF2V_s",
        "outputId": "c21a8aaf-c2de-4b5d-918e-25b2b5837b95"
      },
      "execution_count": null,
      "outputs": [
        {
          "output_type": "execute_result",
          "data": {
            "text/plain": [
              "age              1.0\n",
              "children         1.0\n",
              "salary           1.0\n",
              "living_period    1.0\n",
              "car_price        1.0\n",
              "loan_value       1.0\n",
              "dtype: float64"
            ],
            "text/html": [
              "<div>\n",
              "<style scoped>\n",
              "    .dataframe tbody tr th:only-of-type {\n",
              "        vertical-align: middle;\n",
              "    }\n",
              "\n",
              "    .dataframe tbody tr th {\n",
              "        vertical-align: top;\n",
              "    }\n",
              "\n",
              "    .dataframe thead th {\n",
              "        text-align: right;\n",
              "    }\n",
              "</style>\n",
              "<table border=\"1\" class=\"dataframe\">\n",
              "  <thead>\n",
              "    <tr style=\"text-align: right;\">\n",
              "      <th></th>\n",
              "      <th>0</th>\n",
              "    </tr>\n",
              "  </thead>\n",
              "  <tbody>\n",
              "    <tr>\n",
              "      <th>age</th>\n",
              "      <td>1.0</td>\n",
              "    </tr>\n",
              "    <tr>\n",
              "      <th>children</th>\n",
              "      <td>1.0</td>\n",
              "    </tr>\n",
              "    <tr>\n",
              "      <th>salary</th>\n",
              "      <td>1.0</td>\n",
              "    </tr>\n",
              "    <tr>\n",
              "      <th>living_period</th>\n",
              "      <td>1.0</td>\n",
              "    </tr>\n",
              "    <tr>\n",
              "      <th>car_price</th>\n",
              "      <td>1.0</td>\n",
              "    </tr>\n",
              "    <tr>\n",
              "      <th>loan_value</th>\n",
              "      <td>1.0</td>\n",
              "    </tr>\n",
              "  </tbody>\n",
              "</table>\n",
              "</div><br><label><b>dtype:</b> float64</label>"
            ]
          },
          "metadata": {},
          "execution_count": 27
        }
      ]
    },
    {
      "cell_type": "markdown",
      "source": [
        "###Гистограммы и блок-диаграммы признаков"
      ],
      "metadata": {
        "id": "QuBJaTdOzF8D"
      }
    },
    {
      "cell_type": "code",
      "source": [
        "fig = plt.figure(figsize =(10, 7))\n",
        "for i, column in enumerate(data.columns):\n",
        "  plt.subplot(2, 3, i+1)\n",
        "  plt.hist(data[column].dropna(), bins=7);\n",
        "  plt.title(column)\n",
        "  plt.grid()"
      ],
      "metadata": {
        "colab": {
          "base_uri": "https://localhost:8080/",
          "height": 622
        },
        "id": "MmIjqKkuotpu",
        "outputId": "9e2fe830-62ac-4487-aa24-41b0b34bbb45"
      },
      "execution_count": null,
      "outputs": [
        {
          "output_type": "display_data",
          "data": {
            "text/plain": [
              "<Figure size 1000x700 with 6 Axes>"
            ],
            "image/png": "[encoded data removed]"
          },
          "metadata": {}
        }
      ]
    },
    {
      "cell_type": "markdown",
      "source": [
        " Так как данных очень мало, то по гистограммам признаков сложно сказать, какое у них распределение. Можно было бы сделать предположение, что признаки \"возраст\" и \"количество иждевенцев\" имеют нормальное распределение."
      ],
      "metadata": {
        "id": "drOQgEc9qipB"
      }
    },
    {
      "cell_type": "markdown",
      "source": [
        "# Снижение размерности. Метод MDS\n"
      ],
      "metadata": {
        "id": "nhM_xhlP_dyU"
      }
    },
    {
      "cell_type": "markdown",
      "source": [
        "##4. Возможность снижения размерности данных"
      ],
      "metadata": {
        "id": "yh2uYNyOIc7J"
      }
    },
    {
      "cell_type": "markdown",
      "source": [
        "Вычислим расстояния между клиентами как скалярное произведение строк нормированной матрицы data_norm."
      ],
      "metadata": {
        "id": "O6Ln8WFDI1jr"
      }
    },
    {
      "cell_type": "code",
      "source": [
        "dist = np.zeros((len(data_norm), len(data_norm)))\n",
        "for i in range(len(data_norm)):\n",
        "  for j in range(i, len(data_norm)):\n",
        "    dist[i][j] = np.linalg.norm(data_norm.iloc[i] - data_norm.iloc[j])\n",
        "    dist[j][i] = np.linalg.norm(data_norm.iloc[i] - data_norm.iloc[j])"
      ],
      "metadata": {
        "id": "k72JZBV1EeSp"
      },
      "execution_count": null,
      "outputs": []
    },
    {
      "cell_type": "code",
      "source": [
        "dist"
      ],
      "metadata": {
        "colab": {
          "base_uri": "https://localhost:8080/"
        },
        "id": "fzmtsnVrGP1A",
        "outputId": "5c492f5d-ec45-430e-f90f-e4cc1dd46a31"
      },
      "execution_count": null,
      "outputs": [
        {
          "output_type": "execute_result",
          "data": {
            "text/plain": [
              "array([[0.        , 0.23540425, 0.16988936, ..., 0.17907077, 0.15103997,\n",
              "        0.14667022],\n",
              "       [0.23540425, 0.        , 0.10896511, ..., 0.1122945 , 0.19054799,\n",
              "        0.12932474],\n",
              "       [0.16988936, 0.10896511, 0.        , ..., 0.1493832 , 0.20299773,\n",
              "        0.026772  ],\n",
              "       ...,\n",
              "       [0.17907077, 0.1122945 , 0.1493832 , ..., 0.        , 0.08397095,\n",
              "        0.15031328],\n",
              "       [0.15103997, 0.19054799, 0.20299773, ..., 0.08397095, 0.        ,\n",
              "        0.19464023],\n",
              "       [0.14667022, 0.12932474, 0.026772  , ..., 0.15031328, 0.19464023,\n",
              "        0.        ]])"
            ]
          },
          "metadata": {},
          "execution_count": 35
        }
      ]
    },
    {
      "cell_type": "code",
      "source": [
        "n=len(data_norm)\n",
        "I=np.diag(np.ones(n))\n",
        "U=np.ones((n,n))\n",
        "gramm=-0.5*(I-U*(1/n))*np.square(dist)*(I-U*(1/n))\n",
        "eig_gramm=sorted(np.linalg.eigvalsh(gramm), reverse=True)\n",
        "print(\"Собственные числа матрицы грамма\")\n",
        "for i in range(1,len(eig_gramm)+1):\n",
        "    print(\"{:6.6f}\".format(eig_gramm[i-1]), end='\\t')\n",
        "    if(i%6==0): print()"
      ],
      "metadata": {
        "colab": {
          "base_uri": "https://localhost:8080/"
        },
        "id": "5PQHxbj6tR_5",
        "outputId": "72d1a76e-a8cc-44e3-d3c2-58acb8a1d3a9"
      },
      "execution_count": null,
      "outputs": [
        {
          "output_type": "stream",
          "name": "stdout",
          "text": [
            "Собственные числа матрицы грамма\n",
            "0.000124\t0.000083\t0.000031\t0.000002\t0.000000\t0.000000\t\n",
            "0.000000\t0.000000\t0.000000\t0.000000\t0.000000\t0.000000\t\n",
            "0.000000\t0.000000\t0.000000\t0.000000\t0.000000\t0.000000\t\n",
            "0.000000\t0.000000\t0.000000\t0.000000\t0.000000\t0.000000\t\n",
            "0.000000\t0.000000\t0.000000\t0.000000\t0.000000\t0.000000\t\n",
            "0.000000\t0.000000\t0.000000\t0.000000\t0.000000\t0.000000\t\n",
            "0.000000\t-0.000000\t-0.000000\t-0.000000\t-0.000000\t-0.000000\t\n",
            "-0.000000\t-0.000000\t-0.000000\t-0.000000\t-0.000000\t-0.000000\t\n",
            "-0.000000\t-0.000000\t-0.000000\t-0.000000\t-0.000000\t-0.000000\t\n",
            "-0.000000\t-0.000000\t-0.000000\t-0.000000\t-0.000000\t-0.000000\t\n",
            "-0.000000\t-0.000000\t-0.000000\t-0.000000\t-0.000000\t-0.000000\t\n",
            "-0.000000\t-0.000000\t-0.000000\t-0.000240\t"
          ]
        }
      ]
    },
    {
      "cell_type": "markdown",
      "source": [
        "Как мы видим, ненулевые собственные значения не сильно отличаются друг от друга. Так как четвертое в несколько раз меньше первых трех собственных значений, можно предположить, что клиентов можно поместить в евклидовое пространство размерности 3 с сохранением расстояний. Сказать тоже самое про размещение в пространство размерности 2 сложнее, так как второе и третье отличаются чуть больше чем в 2,5 раза."
      ],
      "metadata": {
        "id": "qSa_gStLlSrz"
      }
    },
    {
      "cell_type": "markdown",
      "source": [
        "##5. Использование алгоритма MDS"
      ],
      "metadata": {
        "id": "w4NS83zXmIy6"
      }
    },
    {
      "cell_type": "markdown",
      "source": [
        "Для размещения клиентов в евклидовое пространство размерности 2 будем использовать итеративный процесс мажоризации стресса, а именно алгоритм SMACOF (англ. Scaling by MAjorizing a COmplicated Function)"
      ],
      "metadata": {
        "id": "YomHyxRXmRtS"
      }
    },
    {
      "cell_type": "code",
      "source": [
        "from sklearn.manifold import MDS"
      ],
      "metadata": {
        "id": "AtMTW3KSCF4P"
      },
      "execution_count": null,
      "outputs": []
    },
    {
      "cell_type": "code",
      "source": [
        "mds = MDS(n_components=2, dissimilarity='precomputed')\n",
        "Z_MDS_2 = mds.fit_transform(dist)"
      ],
      "metadata": {
        "id": "ol2Tus0NFGRI"
      },
      "execution_count": null,
      "outputs": []
    },
    {
      "cell_type": "markdown",
      "source": [
        "Получаем следующее размещение объектов:"
      ],
      "metadata": {
        "id": "170qmsI3oIjy"
      }
    },
    {
      "cell_type": "code",
      "source": [
        "pd.DataFrame(Z_MDS_2)"
      ],
      "metadata": {
        "colab": {
          "base_uri": "https://localhost:8080/",
          "height": 423
        },
        "id": "05tyk3iBoWK9",
        "outputId": "c9aac49c-182f-433a-933b-b836c596bf5c"
      },
      "execution_count": null,
      "outputs": [
        {
          "output_type": "execute_result",
          "data": {
            "text/plain": [
              "           0         1\n",
              "0   0.009337 -0.130964\n",
              "1  -0.062464  0.093855\n",
              "2  -0.105109 -0.007526\n",
              "3   0.106694  0.099193\n",
              "4  -0.087943  0.080504\n",
              "..       ...       ...\n",
              "65 -0.075573 -0.052240\n",
              "66 -0.039820  0.090857\n",
              "67  0.035262  0.045615\n",
              "68  0.098131 -0.007960\n",
              "69 -0.095469 -0.031556\n",
              "\n",
              "[70 rows x 2 columns]"
            ],
            "text/html": [
              "\n",
              "  <div id=\"df-bfcaabeb-7e11-4702-be04-b8ea7e5e9030\" class=\"colab-df-container\">\n",
              "    <div>\n",
              "<style scoped>\n",
              "    .dataframe tbody tr th:only-of-type {\n",
              "        vertical-align: middle;\n",
              "    }\n",
              "\n",
              "    .dataframe tbody tr th {\n",
              "        vertical-align: top;\n",
              "    }\n",
              "\n",
              "    .dataframe thead th {\n",
              "        text-align: right;\n",
              "    }\n",
              "</style>\n",
              "<table border=\"1\" class=\"dataframe\">\n",
              "  <thead>\n",
              "    <tr style=\"text-align: right;\">\n",
              "      <th></th>\n",
              "      <th>0</th>\n",
              "      <th>1</th>\n",
              "    </tr>\n",
              "  </thead>\n",
              "  <tbody>\n",
              "    <tr>\n",
              "      <th>0</th>\n",
              "      <td>0.009337</td>\n",
              "      <td>-0.130964</td>\n",
              "    </tr>\n",
              "    <tr>\n",
              "      <th>1</th>\n",
              "      <td>-0.062464</td>\n",
              "      <td>0.093855</td>\n",
              "    </tr>\n",
              "    <tr>\n",
              "      <th>2</th>\n",
              "      <td>-0.105109</td>\n",
              "      <td>-0.007526</td>\n",
              "    </tr>\n",
              "    <tr>\n",
              "      <th>3</th>\n",
              "      <td>0.106694</td>\n",
              "      <td>0.099193</td>\n",
              "    </tr>\n",
              "    <tr>\n",
              "      <th>4</th>\n",
              "      <td>-0.087943</td>\n",
              "      <td>0.080504</td>\n",
              "    </tr>\n",
              "    <tr>\n",
              "      <th>...</th>\n",
              "      <td>...</td>\n",
              "      <td>...</td>\n",
              "    </tr>\n",
              "    <tr>\n",
              "      <th>65</th>\n",
              "      <td>-0.075573</td>\n",
              "      <td>-0.052240</td>\n",
              "    </tr>\n",
              "    <tr>\n",
              "      <th>66</th>\n",
              "      <td>-0.039820</td>\n",
              "      <td>0.090857</td>\n",
              "    </tr>\n",
              "    <tr>\n",
              "      <th>67</th>\n",
              "      <td>0.035262</td>\n",
              "      <td>0.045615</td>\n",
              "    </tr>\n",
              "    <tr>\n",
              "      <th>68</th>\n",
              "      <td>0.098131</td>\n",
              "      <td>-0.007960</td>\n",
              "    </tr>\n",
              "    <tr>\n",
              "      <th>69</th>\n",
              "      <td>-0.095469</td>\n",
              "      <td>-0.031556</td>\n",
              "    </tr>\n",
              "  </tbody>\n",
              "</table>\n",
              "<p>70 rows × 2 columns</p>\n",
              "</div>\n",
              "    <div class=\"colab-df-buttons\">\n",
              "\n",
              "  <div class=\"colab-df-container\">\n",
              "    <button class=\"colab-df-convert\" onclick=\"convertToInteractive('df-bfcaabeb-7e11-4702-be04-b8ea7e5e9030')\"\n",
              "            title=\"Convert this dataframe to an interactive table.\"\n",
              "            style=\"display:none;\">\n",
              "\n",
              "  <svg xmlns=\"http://www.w3.org/2000/svg\" height=\"24px\" viewBox=\"0 -960 960 960\">\n",
              "    <path d=\"M120-120v-720h720v720H120Zm60-500h600v-160H180v160Zm220 220h160v-160H400v160Zm0 220h160v-160H400v160ZM180-400h160v-160H180v160Zm440 0h160v-160H620v160ZM180-180h160v-160H180v160Zm440 0h160v-160H620v160Z\"/>\n",
              "  </svg>\n",
              "    </button>\n",
              "\n",
              "  <style>\n",
              "    .colab-df-container {\n",
              "      display:flex;\n",
              "      gap: 12px;\n",
              "    }\n",
              "\n",
              "    .colab-df-convert {\n",
              "      background-color: #E8F0FE;\n",
              "      border: none;\n",
              "      border-radius: 50%;\n",
              "      cursor: pointer;\n",
              "      display: none;\n",
              "      fill: #1967D2;\n",
              "      height: 32px;\n",
              "      padding: 0 0 0 0;\n",
              "      width: 32px;\n",
              "    }\n",
              "\n",
              "    .colab-df-convert:hover {\n",
              "      background-color: #E2EBFA;\n",
              "      box-shadow: 0px 1px 2px rgba(60, 64, 67, 0.3), 0px 1px 3px 1px rgba(60, 64, 67, 0.15);\n",
              "      fill: #174EA6;\n",
              "    }\n",
              "\n",
              "    .colab-df-buttons div {\n",
              "      margin-bottom: 4px;\n",
              "    }\n",
              "\n",
              "    [theme=dark] .colab-df-convert {\n",
              "      background-color: #3B4455;\n",
              "      fill: #D2E3FC;\n",
              "    }\n",
              "\n",
              "    [theme=dark] .colab-df-convert:hover {\n",
              "      background-color: #434B5C;\n",
              "      box-shadow: 0px 1px 3px 1px rgba(0, 0, 0, 0.15);\n",
              "      filter: drop-shadow(0px 1px 2px rgba(0, 0, 0, 0.3));\n",
              "      fill: #FFFFFF;\n",
              "    }\n",
              "  </style>\n",
              "\n",
              "    <script>\n",
              "      const buttonEl =\n",
              "        document.querySelector('#df-bfcaabeb-7e11-4702-be04-b8ea7e5e9030 button.colab-df-convert');\n",
              "      buttonEl.style.display =\n",
              "        google.colab.kernel.accessAllowed ? 'block' : 'none';\n",
              "\n",
              "      async function convertToInteractive(key) {\n",
              "        const element = document.querySelector('#df-bfcaabeb-7e11-4702-be04-b8ea7e5e9030');\n",
              "        const dataTable =\n",
              "          await google.colab.kernel.invokeFunction('convertToInteractive',\n",
              "                                                    [key], {});\n",
              "        if (!dataTable) return;\n",
              "\n",
              "        const docLinkHtml = 'Like what you see? Visit the ' +\n",
              "          '<a target=\"_blank\" href=https://colab.research.google.com/notebooks/data_table.ipynb>data table notebook</a>'\n",
              "          + ' to learn more about interactive tables.';\n",
              "        element.innerHTML = '';\n",
              "        dataTable['output_type'] = 'display_data';\n",
              "        await google.colab.output.renderOutput(dataTable, element);\n",
              "        const docLink = document.createElement('div');\n",
              "        docLink.innerHTML = docLinkHtml;\n",
              "        element.appendChild(docLink);\n",
              "      }\n",
              "    </script>\n",
              "  </div>\n",
              "\n",
              "\n",
              "<div id=\"df-40800495-961c-4a5f-9915-9f02e1715c89\">\n",
              "  <button class=\"colab-df-quickchart\" onclick=\"quickchart('df-40800495-961c-4a5f-9915-9f02e1715c89')\"\n",
              "            title=\"Suggest charts\"\n",
              "            style=\"display:none;\">\n",
              "\n",
              "<svg xmlns=\"http://www.w3.org/2000/svg\" height=\"24px\"viewBox=\"0 0 24 24\"\n",
              "     width=\"24px\">\n",
              "    <g>\n",
              "        <path d=\"M19 3H5c-1.1 0-2 .9-2 2v14c0 1.1.9 2 2 2h14c1.1 0 2-.9 2-2V5c0-1.1-.9-2-2-2zM9 17H7v-7h2v7zm4 0h-2V7h2v10zm4 0h-2v-4h2v4z\"/>\n",
              "    </g>\n",
              "</svg>\n",
              "  </button>\n",
              "\n",
              "<style>\n",
              "  .colab-df-quickchart {\n",
              "      --bg-color: #E8F0FE;\n",
              "      --fill-color: #1967D2;\n",
              "      --hover-bg-color: #E2EBFA;\n",
              "      --hover-fill-color: #174EA6;\n",
              "      --disabled-fill-color: #AAA;\n",
              "      --disabled-bg-color: #DDD;\n",
              "  }\n",
              "\n",
              "  [theme=dark] .colab-df-quickchart {\n",
              "      --bg-color: #3B4455;\n",
              "      --fill-color: #D2E3FC;\n",
              "      --hover-bg-color: #434B5C;\n",
              "      --hover-fill-color: #FFFFFF;\n",
              "      --disabled-bg-color: #3B4455;\n",
              "      --disabled-fill-color: #666;\n",
              "  }\n",
              "\n",
              "  .colab-df-quickchart {\n",
              "    background-color: var(--bg-color);\n",
              "    border: none;\n",
              "    border-radius: 50%;\n",
              "    cursor: pointer;\n",
              "    display: none;\n",
              "    fill: var(--fill-color);\n",
              "    height: 32px;\n",
              "    padding: 0;\n",
              "    width: 32px;\n",
              "  }\n",
              "\n",
              "  .colab-df-quickchart:hover {\n",
              "    background-color: var(--hover-bg-color);\n",
              "    box-shadow: 0 1px 2px rgba(60, 64, 67, 0.3), 0 1px 3px 1px rgba(60, 64, 67, 0.15);\n",
              "    fill: var(--button-hover-fill-color);\n",
              "  }\n",
              "\n",
              "  .colab-df-quickchart-complete:disabled,\n",
              "  .colab-df-quickchart-complete:disabled:hover {\n",
              "    background-color: var(--disabled-bg-color);\n",
              "    fill: var(--disabled-fill-color);\n",
              "    box-shadow: none;\n",
              "  }\n",
              "\n",
              "  .colab-df-spinner {\n",
              "    border: 2px solid var(--fill-color);\n",
              "    border-color: transparent;\n",
              "    border-bottom-color: var(--fill-color);\n",
              "    animation:\n",
              "      spin 1s steps(1) infinite;\n",
              "  }\n",
              "\n",
              "  @keyframes spin {\n",
              "    0% {\n",
              "      border-color: transparent;\n",
              "      border-bottom-color: var(--fill-color);\n",
              "      border-left-color: var(--fill-color);\n",
              "    }\n",
              "    20% {\n",
              "      border-color: transparent;\n",
              "      border-left-color: var(--fill-color);\n",
              "      border-top-color: var(--fill-color);\n",
              "    }\n",
              "    30% {\n",
              "      border-color: transparent;\n",
              "      border-left-color: var(--fill-color);\n",
              "      border-top-color: var(--fill-color);\n",
              "      border-right-color: var(--fill-color);\n",
              "    }\n",
              "    40% {\n",
              "      border-color: transparent;\n",
              "      border-right-color: var(--fill-color);\n",
              "      border-top-color: var(--fill-color);\n",
              "    }\n",
              "    60% {\n",
              "      border-color: transparent;\n",
              "      border-right-color: var(--fill-color);\n",
              "    }\n",
              "    80% {\n",
              "      border-color: transparent;\n",
              "      border-right-color: var(--fill-color);\n",
              "      border-bottom-color: var(--fill-color);\n",
              "    }\n",
              "    90% {\n",
              "      border-color: transparent;\n",
              "      border-bottom-color: var(--fill-color);\n",
              "    }\n",
              "  }\n",
              "</style>\n",
              "\n",
              "  <script>\n",
              "    async function quickchart(key) {\n",
              "      const quickchartButtonEl =\n",
              "        document.querySelector('#' + key + ' button');\n",
              "      quickchartButtonEl.disabled = true;  // To prevent multiple clicks.\n",
              "      quickchartButtonEl.classList.add('colab-df-spinner');\n",
              "      try {\n",
              "        const charts = await google.colab.kernel.invokeFunction(\n",
              "            'suggestCharts', [key], {});\n",
              "      } catch (error) {\n",
              "        console.error('Error during call to suggestCharts:', error);\n",
              "      }\n",
              "      quickchartButtonEl.classList.remove('colab-df-spinner');\n",
              "      quickchartButtonEl.classList.add('colab-df-quickchart-complete');\n",
              "    }\n",
              "    (() => {\n",
              "      let quickchartButtonEl =\n",
              "        document.querySelector('#df-40800495-961c-4a5f-9915-9f02e1715c89 button');\n",
              "      quickchartButtonEl.style.display =\n",
              "        google.colab.kernel.accessAllowed ? 'block' : 'none';\n",
              "    })();\n",
              "  </script>\n",
              "</div>\n",
              "    </div>\n",
              "  </div>\n"
            ],
            "application/vnd.google.colaboratory.intrinsic+json": {
              "type": "dataframe",
              "summary": "{\n  \"name\": \"pd\",\n  \"rows\": 70,\n  \"fields\": [\n    {\n      \"column\": 0,\n      \"properties\": {\n        \"dtype\": \"number\",\n        \"std\": 0.08054899665286705,\n        \"min\": -0.140652877117148,\n        \"max\": 0.16301513549513003,\n        \"num_unique_values\": 70,\n        \"samples\": [\n          0.1048174531946943,\n          0.00933678744338692,\n          0.08396733237704358\n        ],\n        \"semantic_type\": \"\",\n        \"description\": \"\"\n      }\n    },\n    {\n      \"column\": 1,\n      \"properties\": {\n        \"dtype\": \"number\",\n        \"std\": 0.09138314596253512,\n        \"min\": -0.1966981476592686,\n        \"max\": 0.23857568951430075,\n        \"num_unique_values\": 70,\n        \"samples\": [\n          -0.1284144389716987,\n          -0.13096350465789505,\n          -0.12816333020414222\n        ],\n        \"semantic_type\": \"\",\n        \"description\": \"\"\n      }\n    }\n  ]\n}"
            }
          },
          "metadata": {},
          "execution_count": 45
        }
      ]
    },
    {
      "cell_type": "markdown",
      "source": [
        "###Погрешность размещения"
      ],
      "metadata": {
        "id": "KMCIIwlfqVS3"
      }
    },
    {
      "cell_type": "markdown",
      "source": [
        "Расcчитаем погрешность такого размещения"
      ],
      "metadata": {
        "id": "nvsW6BhXognX"
      }
    },
    {
      "cell_type": "code",
      "source": [
        "distances1 = np.zeros((len(data_norm), len(data_norm)))\n",
        "for i in range(len(data_norm)):\n",
        "  for j in range(i, len(data_norm)):\n",
        "    distances1[i][j] = np.linalg.norm(Z_MDS_2[i] - Z_MDS_2[j])\n",
        "    distances1[j][i] = np.linalg.norm(Z_MDS_2[i] - Z_MDS_2[j])\n",
        "print(f\"Стандартный стресс Краскаля: {np.square(dist - distances1).sum().sum()/np.square(dist).sum().sum()}\")\n",
        "print(f\"MAE размещения: {np.abs(dist - distances1).mean()}\")\n",
        "print(f\"MAPE размещения: {np.nanmean(np.abs(dist - distances1)/(dist+1e-10))}\")\n",
        "print(f\"MSE размещения: {np.square(dist - distances1).mean()}\")\n"
      ],
      "metadata": {
        "colab": {
          "base_uri": "https://localhost:8080/"
        },
        "id": "Hsse4un-as5-",
        "outputId": "9df1ded5-3339-48dc-b402-e5424c443945"
      },
      "execution_count": null,
      "outputs": [
        {
          "output_type": "stream",
          "name": "stdout",
          "text": [
            "Стандартный стресс Краскаля: 0.0002236521011879403\n",
            "MAE размещения: 0.0014501570698443717\n",
            "MAPE размещения: 0.01786537681807639\n",
            "MSE размещения: 6.544332789984212e-06\n"
          ]
        }
      ]
    },
    {
      "cell_type": "markdown",
      "source": [
        "Полученное размещение имеет маленькую погрешность аппроксимациии"
      ],
      "metadata": {
        "id": "CKBkwLfgpbD3"
      }
    },
    {
      "cell_type": "markdown",
      "source": [
        "###Карта клиентов"
      ],
      "metadata": {
        "id": "iKE10HF7qfXM"
      }
    },
    {
      "cell_type": "code",
      "source": [
        "plt.scatter(pd.DataFrame(Z_MDS_2).iloc[:, 0], pd.DataFrame(Z_MDS_2).iloc[:, 1])\n",
        "plt.xlabel('feature_1')\n",
        "plt.ylabel('feature_2')\n",
        "plt.grid()"
      ],
      "metadata": {
        "colab": {
          "base_uri": "https://localhost:8080/",
          "height": 450
        },
        "id": "7G5ETl9mFcSo",
        "outputId": "3e96a6fb-d502-425e-baed-aad53789952a"
      },
      "execution_count": null,
      "outputs": [
        {
          "output_type": "display_data",
          "data": {
            "text/plain": [
              "<Figure size 640x480 with 1 Axes>"
            ],
            "image/png": "[encoded data removed]"
          },
          "metadata": {}
        }
      ]
    },
    {
      "cell_type": "markdown",
      "source": [
        "По данной карте клиентов можно сказать, что объекты можно было бы выделить два кластера, разделенные по диагонали y=x."
      ],
      "metadata": {
        "id": "DzZpyj58rKCG"
      }
    },
    {
      "cell_type": "markdown",
      "source": [
        "##Кластеризация"
      ],
      "metadata": {
        "id": "-kd80r4j6HhJ"
      }
    },
    {
      "cell_type": "markdown",
      "source": [
        "###7. Матрица расстояний и матрица близости"
      ],
      "metadata": {
        "id": "tw5PZDEJ6MCy"
      }
    },
    {
      "cell_type": "markdown",
      "source": [
        "В пункте 4 была найдена матрица расстояний объекта. С помощью нее перейдем к матрице близости по формуле: $$ sim(x,y) = e^{\\frac{-dist^{2}(x,y)}{2\\sigma^{2}}}  $$"
      ],
      "metadata": {
        "id": "mWXEDzLi6XTM"
      }
    },
    {
      "cell_type": "code",
      "source": [
        "sigma=0.1\n",
        "sim = np.exp(-dist**2/(2*sigma**2))\n",
        "sim"
      ],
      "metadata": {
        "colab": {
          "base_uri": "https://localhost:8080/"
        },
        "id": "sCC1uozu6G-D",
        "outputId": "ac86f552-4b37-4918-fe67-685ec06617dd"
      },
      "execution_count": null,
      "outputs": [
        {
          "output_type": "execute_result",
          "data": {
            "text/plain": [
              "array([[1.        , 0.06261452, 0.23618974, ..., 0.20122793, 0.31961004,\n",
              "        0.3410904 ],\n",
              "       [0.06261452, 1.        , 0.55229676, ..., 0.53232414, 0.16276842,\n",
              "        0.43333492],\n",
              "       [0.23618974, 0.55229676, 1.        , ..., 0.32766384, 0.1274025 ,\n",
              "        0.96479755],\n",
              "       ...,\n",
              "       [0.20122793, 0.53232414, 0.32766384, ..., 1.        , 0.70288917,\n",
              "        0.32312884],\n",
              "       [0.31961004, 0.16276842, 0.1274025 , ..., 0.70288917, 1.        ,\n",
              "        0.15043247],\n",
              "       [0.3410904 , 0.43333492, 0.96479755, ..., 0.32312884, 0.15043247,\n",
              "        1.        ]])"
            ]
          },
          "metadata": {},
          "execution_count": 91
        }
      ]
    },
    {
      "cell_type": "markdown",
      "source": [
        "###8. Разбиение с помощью spectral method"
      ],
      "metadata": {
        "id": "UAV1fZfJ67u0"
      }
    },
    {
      "cell_type": "markdown",
      "source": [
        "Для нахождения разбиения с помощью Spectral algorithm (Normolized) был использован класс SpectralClustering библиотеки sklearn. В данный класс я передовала необходимое количество кластеров и находила разбиение на основе матрицы близостей (для это указывала, что матрица была предрпсчитана affinity=\"precomputed\")."
      ],
      "metadata": {
        "id": "S1LwHDzX8glH"
      }
    },
    {
      "cell_type": "code",
      "source": [
        "from sklearn.cluster import SpectralClustering\n",
        "spec = SpectralClustering(2, affinity=\"precomputed\", random_state=0).fit(sim)\n",
        "split = spec.labels_"
      ],
      "metadata": {
        "id": "XIZOqcqy67c9"
      },
      "execution_count": null,
      "outputs": []
    },
    {
      "cell_type": "code",
      "source": [
        "from sklearn.decomposition import PCA\n",
        "def print_splits(split, features, n_components):\n",
        "  print(\"Разбиение, полученное с помощью spectral алгоритма:\\n\", split, sep=\"\")\n",
        "  plt.figure()\n",
        "  for i in range(n_components):\n",
        "    plt.scatter(pd.DataFrame(Z_MDS_2).iloc[split==i, 0], pd.DataFrame(Z_MDS_2).iloc[split==i, 1])\n",
        "  plt.title(\"Spectral\")\n",
        "  plt.show()"
      ],
      "metadata": {
        "id": "R4ikVsqw7UZL"
      },
      "execution_count": null,
      "outputs": []
    },
    {
      "cell_type": "code",
      "source": [
        "print_splits(split, data_norm, 2)"
      ],
      "metadata": {
        "colab": {
          "base_uri": "https://localhost:8080/",
          "height": 504
        },
        "id": "HjEgO07g7rTy",
        "outputId": "b2e4c5f5-f952-4363-c4c4-8891abe2493e"
      },
      "execution_count": null,
      "outputs": [
        {
          "output_type": "stream",
          "name": "stdout",
          "text": [
            "Разбиение, полученное с помощью spectral алгоритма:\n",
            "[0 1 1 0 1 1 0 1 0 0 0 1 0 0 1 0 0 1 1 0 1 1 0 1 0 0 0 1 1 0 1 0 1 0 0 1 1\n",
            " 0 1 1 0 0 1 0 1 1 0 1 0 0 1 1 0 1 0 0 1 1 1 1 0 0 0 0 0 1 1 1 0 1]\n"
          ]
        },
        {
          "output_type": "display_data",
          "data": {
            "text/plain": [
              "<Figure size 640x480 with 1 Axes>"
            ],
            "image/png": "[encoded data removed]"
          },
          "metadata": {}
        }
      ]
    },
    {
      "cell_type": "markdown",
      "source": [
        "### 9. Оценка качества кластеризации"
      ],
      "metadata": {
        "id": "oBnGmaDX8q0T"
      }
    },
    {
      "cell_type": "markdown",
      "source": [
        "Рассмотрим Silhouette Score (также известен как Silhouette Coefficient, коэффициент силуэта). Коэффициент силуэта — это метрика оценки кластеризации в диапазоне от -1 до 1. Коэффициент силуэта рассчитывается с использованием среднего расстояния между точками внутри кластера и среднего расстояния до ближайшего кластера для каждой точки."
      ],
      "metadata": {
        "id": "4iyv2Edy85JD"
      }
    },
    {
      "cell_type": "code",
      "source": [
        "from sklearn.metrics import silhouette_score\n",
        "def find_silhouette_score(dist, split):\n",
        "    ss = silhouette_score(dist, split, metric=\"precomputed\")\n",
        "    print(f\"Spectral silhouette_score = {ss}\")"
      ],
      "metadata": {
        "id": "sgvHX94086S5"
      },
      "execution_count": null,
      "outputs": []
    },
    {
      "cell_type": "code",
      "source": [
        "find_silhouette_score(dist, split)"
      ],
      "metadata": {
        "colab": {
          "base_uri": "https://localhost:8080/"
        },
        "id": "byLj3LGW87WC",
        "outputId": "fb9f19dd-1a93-4707-b8bb-762a848d17ad"
      },
      "execution_count": null,
      "outputs": [
        {
          "output_type": "stream",
          "name": "stdout",
          "text": [
            "Spectral silhouette_score = 0.4169432260759393\n"
          ]
        }
      ]
    },
    {
      "cell_type": "markdown",
      "source": [
        "Нельзя сказать, что это высокий показатель кластеризации. Хотя по картинкам и так понятно, что данные в принципе не идеально кластеризуются на два кластера."
      ],
      "metadata": {
        "id": "OWnV1btL9g0b"
      }
    },
    {
      "cell_type": "markdown",
      "source": [
        "###10. Сравнение по Rand индексу"
      ],
      "metadata": {
        "id": "l8BPNP2E93QD"
      }
    },
    {
      "cell_type": "code",
      "source": [
        "from sklearn.metrics import rand_score\n",
        "print(rand_score(split, data_full.iloc[:,8]))"
      ],
      "metadata": {
        "colab": {
          "base_uri": "https://localhost:8080/"
        },
        "id": "8CRFNY7H999p",
        "outputId": "3cf22c81-0b7c-48ac-f7dd-72c1fd0d5b3c"
      },
      "execution_count": null,
      "outputs": [
        {
          "output_type": "stream",
          "name": "stdout",
          "text": [
            "0.8173913043478261\n"
          ]
        }
      ]
    },
    {
      "cell_type": "markdown",
      "source": [
        "По данному значению видно, что кластеры достаточно схожи. То есть spectral method более менее подходит для выделения качества заемщиков."
      ],
      "metadata": {
        "id": "IgJiHORl-tDP"
      }
    }
  ]
}