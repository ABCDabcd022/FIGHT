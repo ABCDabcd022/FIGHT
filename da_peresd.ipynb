{
 "cells": [
  {
   "cell_type": "markdown",
   "metadata": {},
   "source": [
    "Практика. Пересдача. Смирнов Николай"
   ]
  },
  {
   "cell_type": "code",
   "execution_count": 1,
   "metadata": {},
   "outputs": [],
   "source": [
    "import pandas as pd\n",
    "import matplotlib.pyplot as plt\n",
    "import numpy as np\n",
    "from scipy import stats"
   ]
  },
  {
   "cell_type": "markdown",
   "metadata": {},
   "source": [
    "Первичный анализ"
   ]
  },
  {
   "cell_type": "code",
   "execution_count": 2,
   "metadata": {},
   "outputs": [],
   "source": [
    "data_full = pd.read_excel('24_MAG_Exam_Practice_4.xls', header=None)\n",
    "data = data_full.iloc[:,:6]\n",
    "data.columns = [\"age\", \"children\", \"salary\", \"living_period\", \"car_price\", \"loan_value\"]"
   ]
  },
  {
   "cell_type": "code",
   "execution_count": 3,
   "metadata": {},
   "outputs": [
    {
     "data": {
      "text/html": [
       "<div>\n",
       "<style scoped>\n",
       "    .dataframe tbody tr th:only-of-type {\n",
       "        vertical-align: middle;\n",
       "    }\n",
       "\n",
       "    .dataframe tbody tr th {\n",
       "        vertical-align: top;\n",
       "    }\n",
       "\n",
       "    .dataframe thead th {\n",
       "        text-align: right;\n",
       "    }\n",
       "</style>\n",
       "<table border=\"1\" class=\"dataframe\">\n",
       "  <thead>\n",
       "    <tr style=\"text-align: right;\">\n",
       "      <th></th>\n",
       "      <th>age</th>\n",
       "      <th>children</th>\n",
       "      <th>salary</th>\n",
       "      <th>living_period</th>\n",
       "      <th>car_price</th>\n",
       "      <th>loan_value</th>\n",
       "    </tr>\n",
       "  </thead>\n",
       "  <tbody>\n",
       "    <tr>\n",
       "      <th>0</th>\n",
       "      <td>51</td>\n",
       "      <td>3</td>\n",
       "      <td>18600</td>\n",
       "      <td>17</td>\n",
       "      <td>21000</td>\n",
       "      <td>200000</td>\n",
       "    </tr>\n",
       "    <tr>\n",
       "      <th>1</th>\n",
       "      <td>44</td>\n",
       "      <td>2</td>\n",
       "      <td>11300</td>\n",
       "      <td>13</td>\n",
       "      <td>12000</td>\n",
       "      <td>117000</td>\n",
       "    </tr>\n",
       "    <tr>\n",
       "      <th>2</th>\n",
       "      <td>28</td>\n",
       "      <td>0</td>\n",
       "      <td>8500</td>\n",
       "      <td>3</td>\n",
       "      <td>6000</td>\n",
       "      <td>67000</td>\n",
       "    </tr>\n",
       "    <tr>\n",
       "      <th>3</th>\n",
       "      <td>41</td>\n",
       "      <td>2</td>\n",
       "      <td>15800</td>\n",
       "      <td>11</td>\n",
       "      <td>16000</td>\n",
       "      <td>159000</td>\n",
       "    </tr>\n",
       "    <tr>\n",
       "      <th>4</th>\n",
       "      <td>42</td>\n",
       "      <td>2</td>\n",
       "      <td>8300</td>\n",
       "      <td>12</td>\n",
       "      <td>9000</td>\n",
       "      <td>84000</td>\n",
       "    </tr>\n",
       "  </tbody>\n",
       "</table>\n",
       "</div>"
      ],
      "text/plain": [
       "   age  children  salary  living_period  car_price  loan_value\n",
       "0   51         3   18600             17      21000      200000\n",
       "1   44         2   11300             13      12000      117000\n",
       "2   28         0    8500              3       6000       67000\n",
       "3   41         2   15800             11      16000      159000\n",
       "4   42         2    8300             12       9000       84000"
      ]
     },
     "execution_count": 3,
     "metadata": {},
     "output_type": "execute_result"
    }
   ],
   "source": [
    "data.head()"
   ]
  },
  {
   "cell_type": "code",
   "execution_count": 4,
   "metadata": {},
   "outputs": [
    {
     "data": {
      "text/plain": [
       "(70, 6)"
      ]
     },
     "execution_count": 4,
     "metadata": {},
     "output_type": "execute_result"
    }
   ],
   "source": [
    "data.shape"
   ]
  },
  {
   "cell_type": "markdown",
   "metadata": {},
   "source": [
    "Всего 70 объектов."
   ]
  },
  {
   "cell_type": "markdown",
   "metadata": {},
   "source": [
    "Основные характеристики данных"
   ]
  },
  {
   "cell_type": "code",
   "execution_count": 5,
   "metadata": {},
   "outputs": [
    {
     "data": {
      "text/html": [
       "<div>\n",
       "<style scoped>\n",
       "    .dataframe tbody tr th:only-of-type {\n",
       "        vertical-align: middle;\n",
       "    }\n",
       "\n",
       "    .dataframe tbody tr th {\n",
       "        vertical-align: top;\n",
       "    }\n",
       "\n",
       "    .dataframe thead th {\n",
       "        text-align: right;\n",
       "    }\n",
       "</style>\n",
       "<table border=\"1\" class=\"dataframe\">\n",
       "  <thead>\n",
       "    <tr style=\"text-align: right;\">\n",
       "      <th></th>\n",
       "      <th>age</th>\n",
       "      <th>children</th>\n",
       "      <th>salary</th>\n",
       "      <th>living_period</th>\n",
       "      <th>car_price</th>\n",
       "      <th>loan_value</th>\n",
       "    </tr>\n",
       "  </thead>\n",
       "  <tbody>\n",
       "    <tr>\n",
       "      <th>count</th>\n",
       "      <td>70.000000</td>\n",
       "      <td>70.000000</td>\n",
       "      <td>70.000000</td>\n",
       "      <td>70.000000</td>\n",
       "      <td>70.000000</td>\n",
       "      <td>70.000000</td>\n",
       "    </tr>\n",
       "    <tr>\n",
       "      <th>mean</th>\n",
       "      <td>39.985714</td>\n",
       "      <td>2.071429</td>\n",
       "      <td>20000.000000</td>\n",
       "      <td>9.957143</td>\n",
       "      <td>20014.285714</td>\n",
       "      <td>200014.285714</td>\n",
       "    </tr>\n",
       "    <tr>\n",
       "      <th>std</th>\n",
       "      <td>8.074818</td>\n",
       "      <td>1.026058</td>\n",
       "      <td>9999.391286</td>\n",
       "      <td>5.017175</td>\n",
       "      <td>9927.991255</td>\n",
       "      <td>100000.361283</td>\n",
       "    </tr>\n",
       "    <tr>\n",
       "      <th>min</th>\n",
       "      <td>20.000000</td>\n",
       "      <td>-1.000000</td>\n",
       "      <td>2600.000000</td>\n",
       "      <td>-2.000000</td>\n",
       "      <td>2000.000000</td>\n",
       "      <td>19000.000000</td>\n",
       "    </tr>\n",
       "    <tr>\n",
       "      <th>25%</th>\n",
       "      <td>34.250000</td>\n",
       "      <td>1.250000</td>\n",
       "      <td>11325.000000</td>\n",
       "      <td>6.250000</td>\n",
       "      <td>12000.000000</td>\n",
       "      <td>119750.000000</td>\n",
       "    </tr>\n",
       "    <tr>\n",
       "      <th>50%</th>\n",
       "      <td>39.000000</td>\n",
       "      <td>2.000000</td>\n",
       "      <td>20250.000000</td>\n",
       "      <td>9.000000</td>\n",
       "      <td>20000.000000</td>\n",
       "      <td>199500.000000</td>\n",
       "    </tr>\n",
       "    <tr>\n",
       "      <th>75%</th>\n",
       "      <td>46.500000</td>\n",
       "      <td>3.000000</td>\n",
       "      <td>26875.000000</td>\n",
       "      <td>14.000000</td>\n",
       "      <td>26750.000000</td>\n",
       "      <td>265750.000000</td>\n",
       "    </tr>\n",
       "    <tr>\n",
       "      <th>max</th>\n",
       "      <td>60.000000</td>\n",
       "      <td>5.000000</td>\n",
       "      <td>40300.000000</td>\n",
       "      <td>22.000000</td>\n",
       "      <td>43000.000000</td>\n",
       "      <td>422000.000000</td>\n",
       "    </tr>\n",
       "  </tbody>\n",
       "</table>\n",
       "</div>"
      ],
      "text/plain": [
       "             age   children        salary  living_period     car_price  \\\n",
       "count  70.000000  70.000000     70.000000      70.000000     70.000000   \n",
       "mean   39.985714   2.071429  20000.000000       9.957143  20014.285714   \n",
       "std     8.074818   1.026058   9999.391286       5.017175   9927.991255   \n",
       "min    20.000000  -1.000000   2600.000000      -2.000000   2000.000000   \n",
       "25%    34.250000   1.250000  11325.000000       6.250000  12000.000000   \n",
       "50%    39.000000   2.000000  20250.000000       9.000000  20000.000000   \n",
       "75%    46.500000   3.000000  26875.000000      14.000000  26750.000000   \n",
       "max    60.000000   5.000000  40300.000000      22.000000  43000.000000   \n",
       "\n",
       "          loan_value  \n",
       "count      70.000000  \n",
       "mean   200014.285714  \n",
       "std    100000.361283  \n",
       "min     19000.000000  \n",
       "25%    119750.000000  \n",
       "50%    199500.000000  \n",
       "75%    265750.000000  \n",
       "max    422000.000000  "
      ]
     },
     "execution_count": 5,
     "metadata": {},
     "output_type": "execute_result"
    }
   ],
   "source": [
    "data.describe()"
   ]
  },
  {
   "cell_type": "markdown",
   "metadata": {},
   "source": [
    "Присутсвуют некорректные данные в виде объектов с отрицательным значением количества иждевенцев и отрицательным значением срока проживания в регионе.\n",
    "\n",
    "В данных нет пропусков (так как в строке count для всех объектов одинаковое значение 70."
   ]
  },
  {
   "cell_type": "markdown",
   "metadata": {},
   "source": [
    "Нормировка"
   ]
  },
  {
   "cell_type": "markdown",
   "metadata": {},
   "source": [
    "Так как средние значения признаков сильно отличаются (по смыслу признаки имеют разные системы измерения), то при дальнейших расчетах некоторые признаки могут оказывать большее влияние. Для более правильного исследования стоит нормировать данные."
   ]
  },
  {
   "cell_type": "code",
   "execution_count": 6,
   "metadata": {},
   "outputs": [
    {
     "data": {
      "text/html": [
       "<div>\n",
       "<style scoped>\n",
       "    .dataframe tbody tr th:only-of-type {\n",
       "        vertical-align: middle;\n",
       "    }\n",
       "\n",
       "    .dataframe tbody tr th {\n",
       "        vertical-align: top;\n",
       "    }\n",
       "\n",
       "    .dataframe thead th {\n",
       "        text-align: right;\n",
       "    }\n",
       "</style>\n",
       "<table border=\"1\" class=\"dataframe\">\n",
       "  <thead>\n",
       "    <tr style=\"text-align: right;\">\n",
       "      <th></th>\n",
       "      <th>age</th>\n",
       "      <th>children</th>\n",
       "      <th>salary</th>\n",
       "      <th>living_period</th>\n",
       "      <th>car_price</th>\n",
       "      <th>loan_value</th>\n",
       "    </tr>\n",
       "  </thead>\n",
       "  <tbody>\n",
       "    <tr>\n",
       "      <th>0</th>\n",
       "      <td>0.149471</td>\n",
       "      <td>0.155334</td>\n",
       "      <td>0.099565</td>\n",
       "      <td>0.182501</td>\n",
       "      <td>0.112506</td>\n",
       "      <td>0.107051</td>\n",
       "    </tr>\n",
       "    <tr>\n",
       "      <th>1</th>\n",
       "      <td>0.128956</td>\n",
       "      <td>0.103556</td>\n",
       "      <td>0.060488</td>\n",
       "      <td>0.139559</td>\n",
       "      <td>0.064289</td>\n",
       "      <td>0.062625</td>\n",
       "    </tr>\n",
       "    <tr>\n",
       "      <th>2</th>\n",
       "      <td>0.082063</td>\n",
       "      <td>0.000000</td>\n",
       "      <td>0.045500</td>\n",
       "      <td>0.032206</td>\n",
       "      <td>0.032144</td>\n",
       "      <td>0.035862</td>\n",
       "    </tr>\n",
       "    <tr>\n",
       "      <th>3</th>\n",
       "      <td>0.120163</td>\n",
       "      <td>0.103556</td>\n",
       "      <td>0.084576</td>\n",
       "      <td>0.118089</td>\n",
       "      <td>0.085719</td>\n",
       "      <td>0.085106</td>\n",
       "    </tr>\n",
       "    <tr>\n",
       "      <th>4</th>\n",
       "      <td>0.123094</td>\n",
       "      <td>0.103556</td>\n",
       "      <td>0.044429</td>\n",
       "      <td>0.128824</td>\n",
       "      <td>0.048217</td>\n",
       "      <td>0.044962</td>\n",
       "    </tr>\n",
       "  </tbody>\n",
       "</table>\n",
       "</div>"
      ],
      "text/plain": [
       "        age  children    salary  living_period  car_price  loan_value\n",
       "0  0.149471  0.155334  0.099565       0.182501   0.112506    0.107051\n",
       "1  0.128956  0.103556  0.060488       0.139559   0.064289    0.062625\n",
       "2  0.082063  0.000000  0.045500       0.032206   0.032144    0.035862\n",
       "3  0.120163  0.103556  0.084576       0.118089   0.085719    0.085106\n",
       "4  0.123094  0.103556  0.044429       0.128824   0.048217    0.044962"
      ]
     },
     "execution_count": 6,
     "metadata": {},
     "output_type": "execute_result"
    }
   ],
   "source": [
    "data_norm = data / np.sqrt(np.square(data).sum(axis=0))\n",
    "data_norm.head()"
   ]
  },
  {
   "cell_type": "markdown",
   "metadata": {},
   "source": [
    "Проверяем результат центрирования с помощью вычисления евклидовой нормы каждого признака (она должна быть равна 1):"
   ]
  },
  {
   "cell_type": "code",
   "execution_count": 7,
   "metadata": {},
   "outputs": [
    {
     "data": {
      "text/plain": [
       "age              1.0\n",
       "children         1.0\n",
       "salary           1.0\n",
       "living_period    1.0\n",
       "car_price        1.0\n",
       "loan_value       1.0\n",
       "dtype: float64"
      ]
     },
     "execution_count": 7,
     "metadata": {},
     "output_type": "execute_result"
    }
   ],
   "source": [
    "np.square(data_norm).sum(axis=0)"
   ]
  },
  {
   "cell_type": "markdown",
   "metadata": {},
   "source": [
    "Гистограммы и блок-диаграммы признаков"
   ]
  },
  {
   "cell_type": "code",
   "execution_count": 8,
   "metadata": {},
   "outputs": [
    {
     "data": {
      "image/png": "[encoded data removed]",
      "text/plain": [
       "<Figure size 1000x700 with 6 Axes>"
      ]
     },
     "metadata": {},
     "output_type": "display_data"
    }
   ],
   "source": [
    "fig = plt.figure(figsize =(10, 7))\n",
    "for i, column in enumerate(data.columns):\n",
    "  plt.subplot(2, 3, i+1)\n",
    "  plt.hist(data[column].dropna(), bins=7);\n",
    "  plt.title(column)\n",
    "  plt.grid()"
   ]
  },
  {
   "cell_type": "markdown",
   "metadata": {},
   "source": [
    "Так как данных очень мало, то по гистограммам признаков сложно сказать, какое у них распределение. Можно было бы сделать предположение, что признаки \"возраст\" и \"количество иждевенцев\" имеют нормальное распределение."
   ]
  },
  {
   "cell_type": "markdown",
   "metadata": {},
   "source": [
    "Снижение размерности. Метод MDS"
   ]
  },
  {
   "cell_type": "markdown",
   "metadata": {},
   "source": [
    "Возможность снижения размерности данных"
   ]
  },
  {
   "cell_type": "markdown",
   "metadata": {},
   "source": [
    "Вычислим расстояния между клиентами как скалярное произведение строк нормированной матрицы data_norm."
   ]
  },
  {
   "cell_type": "code",
   "execution_count": 9,
   "metadata": {},
   "outputs": [],
   "source": [
    "dist = np.zeros((len(data_norm), len(data_norm)))\n",
    "for i in range(len(data_norm)):\n",
    "  for j in range(i, len(data_norm)):\n",
    "    dist[i][j] = np.linalg.norm(data_norm.iloc[i] - data_norm.iloc[j])\n",
    "    dist[j][i] = np.linalg.norm(data_norm.iloc[i] - data_norm.iloc[j])"
   ]
  },
  {
   "cell_type": "code",
   "execution_count": 10,
   "metadata": {},
   "outputs": [
    {
     "data": {
      "text/plain": [
       "array([[0.        , 0.10378501, 0.25633936, ..., 0.16528418, 0.1766308 ,\n",
       "        0.20513804],\n",
       "       [0.10378501, 0.        , 0.16254752, ..., 0.1250261 , 0.16832143,\n",
       "        0.24114782],\n",
       "       [0.25633936, 0.16254752, 0.        , ..., 0.13832001, 0.19172921,\n",
       "        0.29148308],\n",
       "       ...,\n",
       "       [0.16528418, 0.1250261 , 0.13832001, ..., 0.        , 0.05814151,\n",
       "        0.15599535],\n",
       "       [0.1766308 , 0.16832143, 0.19172921, ..., 0.05814151, 0.        ,\n",
       "        0.10302956],\n",
       "       [0.20513804, 0.24114782, 0.29148308, ..., 0.15599535, 0.10302956,\n",
       "        0.        ]])"
      ]
     },
     "execution_count": 10,
     "metadata": {},
     "output_type": "execute_result"
    }
   ],
   "source": [
    "dist"
   ]
  },
  {
   "cell_type": "code",
   "execution_count": 11,
   "metadata": {},
   "outputs": [
    {
     "name": "stdout",
     "output_type": "stream",
     "text": [
      "Собственные числа матрицы грамма\n",
      "0.000124\t0.000083\t0.000031\t0.000002\t0.000000\t0.000000\t\n",
      "0.000000\t0.000000\t0.000000\t0.000000\t0.000000\t0.000000\t\n",
      "0.000000\t0.000000\t0.000000\t0.000000\t0.000000\t0.000000\t\n",
      "0.000000\t0.000000\t0.000000\t0.000000\t0.000000\t0.000000\t\n",
      "0.000000\t0.000000\t0.000000\t0.000000\t0.000000\t0.000000\t\n",
      "0.000000\t0.000000\t0.000000\t0.000000\t0.000000\t0.000000\t\n",
      "0.000000\t0.000000\t-0.000000\t-0.000000\t-0.000000\t-0.000000\t\n",
      "-0.000000\t-0.000000\t-0.000000\t-0.000000\t-0.000000\t-0.000000\t\n",
      "-0.000000\t-0.000000\t-0.000000\t-0.000000\t-0.000000\t-0.000000\t\n",
      "-0.000000\t-0.000000\t-0.000000\t-0.000000\t-0.000000\t-0.000000\t\n",
      "-0.000000\t-0.000000\t-0.000000\t-0.000000\t-0.000000\t-0.000000\t\n",
      "-0.000000\t-0.000000\t-0.000000\t-0.000240\t"
     ]
    }
   ],
   "source": [
    "n=len(data_norm)\n",
    "I=np.diag(np.ones(n))\n",
    "U=np.ones((n,n))\n",
    "gramm=-0.5*(I-U*(1/n))*np.square(dist)*(I-U*(1/n))\n",
    "eig_gramm=sorted(np.linalg.eigvalsh(gramm), reverse=True)\n",
    "print(\"Собственные числа матрицы грамма\")\n",
    "for i in range(1,len(eig_gramm)+1):\n",
    "    print(\"{:6.6f}\".format(eig_gramm[i-1]), end='\\t')\n",
    "    if(i%6==0): print()"
   ]
  },
  {
   "cell_type": "markdown",
   "metadata": {},
   "source": [
    "Как мы видим, ненулевые собственные значения не сильно отличаются друг от друга. Так как четвертое в несколько раз меньше первых трех собственных значений, можно предположить, что клиентов можно поместить в евклидовое пространство размерности 3 с сохранением расстояний. Сказать тоже самое про размещение в пространство размерности 2 сложнее, так как второе и третье отличаются чуть больше чем в 2,5 раза."
   ]
  },
  {
   "cell_type": "markdown",
   "metadata": {},
   "source": [
    "Использование алгоритма MDS"
   ]
  },
  {
   "cell_type": "markdown",
   "metadata": {},
   "source": [
    "Для размещения клиентов в евклидовое пространство размерности 2 будем использовать итеративный процесс мажоризации стресса, а именно алгоритм SMACOF (англ. Scaling by MAjorizing a COmplicated Function)"
   ]
  },
  {
   "cell_type": "code",
   "execution_count": 12,
   "metadata": {},
   "outputs": [],
   "source": [
    "from sklearn.manifold import MDS"
   ]
  },
  {
   "cell_type": "code",
   "execution_count": 13,
   "metadata": {},
   "outputs": [],
   "source": [
    "mds = MDS(n_components=2, dissimilarity='precomputed')\n",
    "Z_MDS_2 = mds.fit_transform(dist)"
   ]
  },
  {
   "cell_type": "markdown",
   "metadata": {},
   "source": [
    "Получаем следующее размещение объектов:"
   ]
  },
  {
   "cell_type": "code",
   "execution_count": 14,
   "metadata": {},
   "outputs": [
    {
     "data": {
      "text/html": [
       "<div>\n",
       "<style scoped>\n",
       "    .dataframe tbody tr th:only-of-type {\n",
       "        vertical-align: middle;\n",
       "    }\n",
       "\n",
       "    .dataframe tbody tr th {\n",
       "        vertical-align: top;\n",
       "    }\n",
       "\n",
       "    .dataframe thead th {\n",
       "        text-align: right;\n",
       "    }\n",
       "</style>\n",
       "<table border=\"1\" class=\"dataframe\">\n",
       "  <thead>\n",
       "    <tr style=\"text-align: right;\">\n",
       "      <th></th>\n",
       "      <th>0</th>\n",
       "      <th>1</th>\n",
       "    </tr>\n",
       "  </thead>\n",
       "  <tbody>\n",
       "    <tr>\n",
       "      <th>0</th>\n",
       "      <td>0.029816</td>\n",
       "      <td>-0.091307</td>\n",
       "    </tr>\n",
       "    <tr>\n",
       "      <th>1</th>\n",
       "      <td>-0.067371</td>\n",
       "      <td>-0.051458</td>\n",
       "    </tr>\n",
       "    <tr>\n",
       "      <th>2</th>\n",
       "      <td>-0.166787</td>\n",
       "      <td>0.071706</td>\n",
       "    </tr>\n",
       "    <tr>\n",
       "      <th>3</th>\n",
       "      <td>-0.034582</td>\n",
       "      <td>-0.020557</td>\n",
       "    </tr>\n",
       "    <tr>\n",
       "      <th>4</th>\n",
       "      <td>-0.095663</td>\n",
       "      <td>-0.052148</td>\n",
       "    </tr>\n",
       "    <tr>\n",
       "      <th>...</th>\n",
       "      <td>...</td>\n",
       "      <td>...</td>\n",
       "    </tr>\n",
       "    <tr>\n",
       "      <th>65</th>\n",
       "      <td>-0.146503</td>\n",
       "      <td>-0.022993</td>\n",
       "    </tr>\n",
       "    <tr>\n",
       "      <th>66</th>\n",
       "      <td>0.145658</td>\n",
       "      <td>0.086482</td>\n",
       "    </tr>\n",
       "    <tr>\n",
       "      <th>67</th>\n",
       "      <td>-0.025028</td>\n",
       "      <td>0.065998</td>\n",
       "    </tr>\n",
       "    <tr>\n",
       "      <th>68</th>\n",
       "      <td>0.028192</td>\n",
       "      <td>0.088942</td>\n",
       "    </tr>\n",
       "    <tr>\n",
       "      <th>69</th>\n",
       "      <td>0.130450</td>\n",
       "      <td>0.086071</td>\n",
       "    </tr>\n",
       "  </tbody>\n",
       "</table>\n",
       "<p>70 rows × 2 columns</p>\n",
       "</div>"
      ],
      "text/plain": [
       "           0         1\n",
       "0   0.029816 -0.091307\n",
       "1  -0.067371 -0.051458\n",
       "2  -0.166787  0.071706\n",
       "3  -0.034582 -0.020557\n",
       "4  -0.095663 -0.052148\n",
       "..       ...       ...\n",
       "65 -0.146503 -0.022993\n",
       "66  0.145658  0.086482\n",
       "67 -0.025028  0.065998\n",
       "68  0.028192  0.088942\n",
       "69  0.130450  0.086071\n",
       "\n",
       "[70 rows x 2 columns]"
      ]
     },
     "execution_count": 14,
     "metadata": {},
     "output_type": "execute_result"
    }
   ],
   "source": [
    "pd.DataFrame(Z_MDS_2)"
   ]
  },
  {
   "cell_type": "markdown",
   "metadata": {},
   "source": [
    "Погрешность размещения"
   ]
  },
  {
   "cell_type": "markdown",
   "metadata": {},
   "source": [
    "Расcчитаем погрешность такого размещения"
   ]
  },
  {
   "cell_type": "code",
   "execution_count": 15,
   "metadata": {},
   "outputs": [
    {
     "name": "stdout",
     "output_type": "stream",
     "text": [
      "Стандартный стресс Краскаля: 0.0002620446164729187\n",
      "MAE размещения: 0.001747818827556446\n",
      "MAPE размещения: 0.01998143353071995\n",
      "MSE размещения: 7.667744532305916e-06\n"
     ]
    }
   ],
   "source": [
    "distances1 = np.zeros((len(data_norm), len(data_norm)))\n",
    "for i in range(len(data_norm)):\n",
    "  for j in range(i, len(data_norm)):\n",
    "    distances1[i][j] = np.linalg.norm(Z_MDS_2[i] - Z_MDS_2[j])\n",
    "    distances1[j][i] = np.linalg.norm(Z_MDS_2[i] - Z_MDS_2[j])\n",
    "print(f\"Стандартный стресс Краскаля: {np.square(dist - distances1).sum().sum()/np.square(dist).sum().sum()}\")\n",
    "print(f\"MAE размещения: {np.abs(dist - distances1).mean()}\")\n",
    "print(f\"MAPE размещения: {np.nanmean(np.abs(dist - distances1)/(dist+1e-10))}\")\n",
    "print(f\"MSE размещения: {np.square(dist - distances1).mean()}\")"
   ]
  },
  {
   "cell_type": "markdown",
   "metadata": {},
   "source": [
    "Полученное размещение имеет маленькую погрешность аппроксимациии"
   ]
  },
  {
   "cell_type": "markdown",
   "metadata": {},
   "source": [
    "Карта клиентов"
   ]
  },
  {
   "cell_type": "code",
   "execution_count": 16,
   "metadata": {},
   "outputs": [
    {
     "data": {
      "image/png": "[encoded data removed]",
      "text/plain": [
       "<Figure size 640x480 with 1 Axes>"
      ]
     },
     "metadata": {},
     "output_type": "display_data"
    }
   ],
   "source": [
    "plt.scatter(pd.DataFrame(Z_MDS_2).iloc[:, 0], pd.DataFrame(Z_MDS_2).iloc[:, 1])\n",
    "plt.xlabel('feature_1')\n",
    "plt.ylabel('feature_2')\n",
    "plt.grid()"
   ]
  },
  {
   "cell_type": "markdown",
   "metadata": {},
   "source": [
    "Можно заметить два кластера в верхней и нижней частях. Посмотрим, что покажет алгоритм кластеризации."
   ]
  },
  {
   "cell_type": "markdown",
   "metadata": {},
   "source": [
    "Кластеризация (distance and similarity, EM-алгоритм, оценка качества, RAND-индекс)"
   ]
  },
  {
   "cell_type": "code",
   "execution_count": 17,
   "metadata": {},
   "outputs": [],
   "source": [
    "import numpy as np\n",
    "import pandas as pd\n",
    "from scipy.spatial.distance import pdist, squareform\n",
    "from scipy.cluster.hierarchy import linkage, fcluster\n",
    "from sklearn.cluster import KMeans\n",
    "from sklearn.mixture import GaussianMixture\n",
    "from sklearn.metrics.cluster import adjusted_rand_score\n",
    "from sklearn.metrics import pairwise_distances\n",
    "from sklearn.preprocessing import normalize\n",
    "from sklearn.metrics.pairwise import euclidean_distances, cosine_similarity, manhattan_distances, cosine_distances\n",
    "import networkx as nx\n",
    "import matplotlib.pyplot as plt\n",
    "import seaborn as sns"
   ]
  },
  {
   "cell_type": "code",
   "execution_count": 18,
   "metadata": {},
   "outputs": [],
   "source": [
    "data2 = data.drop(data.columns[-3:], axis=1)"
   ]
  },
  {
   "cell_type": "markdown",
   "metadata": {},
   "source": [
    "Считаем distance matrix и similarity matrix"
   ]
  },
  {
   "cell_type": "code",
   "execution_count": 19,
   "metadata": {},
   "outputs": [],
   "source": [
    "distance_matrix_X = euclidean_distances(data2, data2)"
   ]
  },
  {
   "cell_type": "code",
   "execution_count": 20,
   "metadata": {},
   "outputs": [
    {
     "data": {
      "text/plain": [
       "array([[    0.        ,  7300.00342466, 10100.02663363, ...,\n",
       "         2200.0665899 ,  8600.01703487, 17900.00810056],\n",
       "       [ 7300.00342466,     0.        ,  2800.04642819, ...,\n",
       "         9500.00531579, 15900.0031761 , 25200.00198413],\n",
       "       [10100.02663363,  2800.04642819,     0.        , ...,\n",
       "        12300.00150406, 18700.0009893 , 28000.00071429],\n",
       "       ...,\n",
       "       [ 2200.0665899 ,  9500.00531579, 12300.00150406, ...,\n",
       "            0.        ,  6400.        , 15700.00003185],\n",
       "       [ 8600.01703487, 15900.0031761 , 18700.0009893 , ...,\n",
       "         6400.        ,     0.        ,  9300.00005376],\n",
       "       [17900.00810056, 25200.00198413, 28000.00071429, ...,\n",
       "        15700.00003185,  9300.00005376,     0.        ]])"
      ]
     },
     "execution_count": 20,
     "metadata": {},
     "output_type": "execute_result"
    }
   ],
   "source": [
    "distance_matrix_X"
   ]
  },
  {
   "cell_type": "code",
   "execution_count": 21,
   "metadata": {},
   "outputs": [],
   "source": [
    "import math\n",
    "\n",
    "def calculate_similarity(vec1, vec2, sigma=0.5):\n",
    "    distance = np.linalg.norm(vec1 - vec2)\n",
    "    return math.exp(-distance**2 / (2 * sigma))\n",
    "\n",
    "def build_similarity_matrix(dataframe):\n",
    "\n",
    "    size = dataframe.shape[0]\n",
    "    similarity_matrix = np.zeros((size, size))\n",
    "\n",
    "\n",
    "    for row_idx in range(size):\n",
    "        for col_idx in range(size):\n",
    "            similarity_matrix[row_idx, col_idx] = calculate_similarity(\n",
    "                dataframe.iloc[row_idx, :], dataframe.iloc[col_idx, :]\n",
    "            )\n",
    "\n",
    "\n",
    "    return pd.DataFrame(similarity_matrix)"
   ]
  },
  {
   "cell_type": "code",
   "execution_count": 22,
   "metadata": {},
   "outputs": [],
   "source": [
    "similarity_matrix_X = build_similarity_matrix(data2)"
   ]
  },
  {
   "cell_type": "markdown",
   "metadata": {},
   "source": [
    "EM - алгоритм"
   ]
  },
  {
   "cell_type": "code",
   "execution_count": 23,
   "metadata": {},
   "outputs": [],
   "source": [
    "from sklearn import preprocessing\n",
    "from sklearn.preprocessing import StandardScaler\n",
    "scaler_X = StandardScaler()\n",
    "X_norm = scaler_X.fit_transform(data2)"
   ]
  },
  {
   "cell_type": "code",
   "execution_count": 24,
   "metadata": {},
   "outputs": [
    {
     "name": "stderr",
     "output_type": "stream",
     "text": [
      "c:\\Users\\nicks\\anaconda3\\Lib\\site-packages\\sklearn\\cluster\\_kmeans.py:1429: UserWarning: KMeans is known to have a memory leak on Windows with MKL, when there are less chunks than available threads. You can avoid it by setting the environment variable OMP_NUM_THREADS=1.\n",
      "  warnings.warn(\n"
     ]
    }
   ],
   "source": [
    "gmm_X = GaussianMixture(n_components=2, random_state=42).fit(X_norm)\n",
    "clusters_X_em = gmm_X.predict(X_norm)"
   ]
  },
  {
   "cell_type": "code",
   "execution_count": 28,
   "metadata": {},
   "outputs": [
    {
     "data": {
      "image/png": "[encoded data removed]",
      "text/plain": [
       "<Figure size 815.222x750 with 9 Axes>"
      ]
     },
     "metadata": {},
     "output_type": "display_data"
    }
   ],
   "source": [
    "centers_X_em = scaler_X.inverse_transform(gmm_X.means_)\n",
    "data2['Cluster'] = clusters_X_em\n",
    "\n",
    "sns.set(style=\"whitegrid\")\n",
    "pairplot_X = sns.pairplot(data2, diag_kind=\"hist\", hue=\"Cluster\", palette=\"cubehelix\", height=2.5, corner=True)\n",
    "\n",
    "# Adjust index pairs based on actual feature count\n",
    "pairs = [(0, 1), (0, 2), (1, 2)]  # Update this based on your data's features\n",
    "\n",
    "for i, (x, y) in enumerate(pairs):\n",
    "    ax = pairplot_X.axes[y][x]\n",
    "    if x != y:\n",
    "        for center, cluster_label in zip(centers_X_em, range(len(centers_X_em))):\n",
    "            ax.scatter(\n",
    "                center[x], center[y],\n",
    "                s=200, c=['green', 'pink'][cluster_label], edgecolor='black', marker='X', label=f'Center {cluster_label+1}'\n",
    "            )\n"
   ]
  }
 ],
 "metadata": {
  "kernelspec": {
   "display_name": "base",
   "language": "python",
   "name": "python3"
  },
  "language_info": {
   "codemirror_mode": {
    "name": "ipython",
    "version": 3
   },
   "file_extension": ".py",
   "mimetype": "text/x-python",
   "name": "python",
   "nbconvert_exporter": "python",
   "pygments_lexer": "ipython3",
   "version": "3.12.7"
  }
 },
 "nbformat": 4,
 "nbformat_minor": 2
}
